{
 "cells": [
  {
   "cell_type": "markdown",
   "metadata": {},
   "source": [
    "\n",
    "<div style=\"text-align: center;\">\n",
    "  <img src=\"https://github.com/Hack-io-Data/Imagenes/blob/main/01-LogosHackio/logo_celeste@4x.png?raw=true\" alt=\"esquema\" />\n",
    "</div>\n"
   ]
  },
  {
   "cell_type": "markdown",
   "metadata": {},
   "source": [
    "# Laboratorio de Python: Clases y Objetos con Canciones\n",
    "\n",
    "## Ejercicio 1. Definición de la clase Cancion\n",
    "1.1. Define  la clase Cancion, la cual va a tener 4 atributos básicos. (título,  artista, album, genero y duración)\n",
    "\n",
    "1.2. Crea un método para la clase Cancion que nos muestre la información de la canción.\n",
    "\n",
    "1.3. Crea un método que nos permita comparar la duración de dos canciones y nos indique cuál de las dos es más larga.\n",
    "\n",
    "1.4. Crea un método que nos permita calcular la popularidad de una canción en función de varios criterios.\n",
    "\n",
    "- La puntuación base debe ser de 50.\n",
    "    \n",
    "- Las canciones de entre 2 y 4 minutos de duración son más populares, por lo que suman 20 puntos. Las demás restan 10.  \n",
    "\n",
    "- Las canciones de los géneros pop, rock, hip-hop y electrónicas son populares, por lo que suman 20 puntos. El resto de géneros restan 5 puntos.\n",
    "\n",
    "- Si una canción pertenece a un álbum suma 10 puntos.\n",
    "\n",
    "1.5. Crea dos instancias de la clase canción con la siguiente info: (\"Stairway to Heaven\", \"Led Zeppelin\", \"Led Zeppelin IV\", 8.02, \"Rock\") y (\"What's Going On\", \"Marvin Gaye\", \"What's Going On\", 3.53, \"Soul\")\n",
    "\n",
    "1.6. Comprueba el funcionamiento de cada uno de los métodos de la clase\n",
    "\n"
   ]
  },
  {
   "cell_type": "code",
   "execution_count": 1,
   "metadata": {},
   "outputs": [],
   "source": [
    "class Cancion:\n",
    "    def __init__ (self, titulo, artista, album, duracion, genero):\n",
    "        self.titulo = titulo\n",
    "        self.artista = artista\n",
    "        self.album = album\n",
    "        self.duracion = duracion\n",
    "        self.genero = genero\n",
    "    \n",
    "    def mostrar_info(self):\n",
    "       print(f\"Título: {self.titulo}\") \n",
    "       print(f\"Artista: {self.artista}\") \n",
    "       print(f\"Álbum: {self.album}\") \n",
    "       print(f\"Duración: {self.duracion} minutos\") \n",
    "       print(f\"Género: {self.genero}\")\n",
    "    \n",
    "    def puntos_popularidad(self):\n",
    "        puntos = 50\n",
    "        if 2.00 < self.duracion < 4.00:\n",
    "            puntos +=20\n",
    "        else:\n",
    "            puntos -=10\n",
    "        generos_populares = [\"pop\", \"rock\", \"hip-hop\", \"electrónica\"]\n",
    "        if self.genero.lower() in generos_populares:\n",
    "            puntos +=20\n",
    "        else:\n",
    "            puntos -=5\n",
    "        if self.album is not None:\n",
    "            puntos +=10\n",
    "        return puntos\n",
    "        \n",
    "    def comparar_duracion(self, otra_cancion): \n",
    "        if self.duracion > otra_cancion.duracion: \n",
    "            print(f\"{self.titulo} es más larga que {otra_cancion.titulo}.\")  \n",
    "        elif self.duracion < otra_cancion.duracion: \n",
    "            print(f\"{otra_cancion.titulo} es más larga que {self.titulo}.\") \n",
    "        else:\n",
    "            print(f\"{self.titulo} y {otra_cancion.titulo} tienen la misma duración.\")\n",
    "    \n",
    "    \n"
   ]
  },
  {
   "cell_type": "code",
   "execution_count": 2,
   "metadata": {},
   "outputs": [],
   "source": [
    "cancion1 = Cancion(\"Stairway to Heaven\", \"Led Zeppelin\", \"Led Zeppelin IV\", 8.02, \"Rock\")\n",
    "cancion2 = Cancion(\"What's Going On\", \"Marvin Gaye\", \"What's Going On\", 3.53, \"Soul\")"
   ]
  },
  {
   "cell_type": "code",
   "execution_count": 3,
   "metadata": {},
   "outputs": [
    {
     "name": "stdout",
     "output_type": "stream",
     "text": [
      "Título: Stairway to Heaven\n",
      "Artista: Led Zeppelin\n",
      "Álbum: Led Zeppelin IV\n",
      "Duración: 8.02 minutos\n",
      "Género: Rock\n",
      "Título: What's Going On\n",
      "Artista: Marvin Gaye\n",
      "Álbum: What's Going On\n",
      "Duración: 3.53 minutos\n",
      "Género: Soul\n"
     ]
    }
   ],
   "source": [
    "cancion1.mostrar_info()\n",
    "cancion2.mostrar_info()"
   ]
  },
  {
   "cell_type": "code",
   "execution_count": 4,
   "metadata": {},
   "outputs": [
    {
     "data": {
      "text/plain": [
       "70"
      ]
     },
     "execution_count": 4,
     "metadata": {},
     "output_type": "execute_result"
    }
   ],
   "source": [
    "cancion1.puntos_popularidad()\n"
   ]
  },
  {
   "cell_type": "code",
   "execution_count": 5,
   "metadata": {},
   "outputs": [
    {
     "data": {
      "text/plain": [
       "75"
      ]
     },
     "execution_count": 5,
     "metadata": {},
     "output_type": "execute_result"
    }
   ],
   "source": [
    "cancion2.puntos_popularidad()"
   ]
  },
  {
   "cell_type": "code",
   "execution_count": 6,
   "metadata": {},
   "outputs": [
    {
     "name": "stdout",
     "output_type": "stream",
     "text": [
      "Stairway to Heaven es más larga que What's Going On.\n"
     ]
    }
   ],
   "source": [
    "cancion1.comparar_duracion(cancion2)"
   ]
  },
  {
   "cell_type": "markdown",
   "metadata": {},
   "source": [
    "## Ejercicio 2. Definición de la subclase Colaboracion\n",
    "2.1. Define  la subclase Colaboracion, la cual va a tener 5 atributos heredados de la clase Cancion (titulo, artista, album, duracion y genero) y va a tener un atributo básico (artistas_colaboradores)\n",
    "\n",
    "\n",
    "2.2. Crea un método que nos permita mostrar todos los detalles de una canción concreta (incluidos los artistas colaboradores).\n",
    "\n",
    "2.3. Crea un método que nos permita comprobar si una canción es o no una colaboración\n",
    "\n",
    "2.4. Crea un método que nos permita obtener el número de colaboradores.\n",
    "\n",
    "2.5. Crea un método que nos actualice la puntuación de la canción, ya qu es una colaboración sumará 5 puntos por cada colaborador\n",
    "\n",
    "2.6. Crea un método que nos permita obtener el colaborador principal asumiendo que es el primer colaborador en la lista.\n",
    "\n",
    "2.7. Crea una instancias de la clase Colaboracion con la siguiente info: (\"Meant to Be\", \"Bebe Rexha\", \"Expectations\", 2.44, \"Country Pop\", [\"Florida Georgia Line\"])\n",
    "\n",
    "2.8. Comprueba el funcionamiento de cada uno de los métodos de la subclase\n"
   ]
  },
  {
   "cell_type": "code",
   "execution_count": 7,
   "metadata": {},
   "outputs": [],
   "source": [
    "class Colaboracion(Cancion):\n",
    "    def __init__(self, titulo, artista, album, duracion, genero, artistas_colaboradores):\n",
    "        super().__init__(titulo, artista, album, duracion, genero)\n",
    "        self.artistas_colaboradores = artistas_colaboradores\n",
    "    \n",
    "    def mostrar_detalles(self):\n",
    "        print(f\"Título: {self.titulo}\") \n",
    "        print(f\"Artista: {self.artista}\") \n",
    "        print(f\"Álbum: {self.album}\") \n",
    "        print(f\"Duración: {self.duracion} minutos\") \n",
    "        print(f\"Género: {self.genero}\")\n",
    "        print(f\"Artistas colaboradores : {', '.join(self.artistas_colaboradores) if self.artistas_colaboradores else 'Ninguno'}\")\n",
    "    \n",
    "    def es_colaboracion(self):\n",
    "        if self.artistas_colaboradores == None:\n",
    "            print(f\"La canción {self.titulo} no es una colaboracion\")\n",
    "        else:\n",
    "            print(f\"La canción {self.titulo} es una colaboracion\")\n",
    "    \n",
    "    def num_colaboradores(self):\n",
    "        num_colaboradores = len(self.artistas_colaboradores)\n",
    "        print(f\"La canción {self.titulo} tiene {num_colaboradores} colaboradores\")\n",
    "    \n",
    "    def puntos_popularidad(self):\n",
    "        puntos = super().puntos_popularidad()\n",
    "        if len(self.artistas_colaboradores) > 0:\n",
    "            puntos += 5 *(len(self.artistas_colaboradores))\n",
    "        return puntos\n",
    "        \n",
    "    def colaborador_principal(self):\n",
    "        self.colaborador1 = self.artistas_colaboradores[0]\n",
    "        print(f\"El colaborador principal de la canción {self.titulo} es {self.colaborador1}\")"
   ]
  },
  {
   "cell_type": "code",
   "execution_count": 8,
   "metadata": {},
   "outputs": [],
   "source": [
    "cancion3 = Colaboracion(\"Meant to Be\", \"Bebe Rexha\", \"Expectations\", 2.44, \"Country Pop\", [\"Florida Georgia Line\"])"
   ]
  },
  {
   "cell_type": "code",
   "execution_count": 9,
   "metadata": {},
   "outputs": [
    {
     "name": "stdout",
     "output_type": "stream",
     "text": [
      "Título: Meant to Be\n",
      "Artista: Bebe Rexha\n",
      "Álbum: Expectations\n",
      "Duración: 2.44 minutos\n",
      "Género: Country Pop\n",
      "Artistas colaboradores : Florida Georgia Line\n"
     ]
    }
   ],
   "source": [
    "cancion3.mostrar_detalles()\n"
   ]
  },
  {
   "cell_type": "code",
   "execution_count": 10,
   "metadata": {},
   "outputs": [
    {
     "name": "stdout",
     "output_type": "stream",
     "text": [
      "La canción Meant to Be es una colaboracion\n"
     ]
    }
   ],
   "source": [
    "cancion3.es_colaboracion()"
   ]
  },
  {
   "cell_type": "code",
   "execution_count": 11,
   "metadata": {},
   "outputs": [
    {
     "name": "stdout",
     "output_type": "stream",
     "text": [
      "La canción Meant to Be tiene 1 colaboradores\n"
     ]
    }
   ],
   "source": [
    "cancion3.num_colaboradores()"
   ]
  },
  {
   "cell_type": "code",
   "execution_count": 12,
   "metadata": {},
   "outputs": [
    {
     "data": {
      "text/plain": [
       "80"
      ]
     },
     "execution_count": 12,
     "metadata": {},
     "output_type": "execute_result"
    }
   ],
   "source": [
    "cancion3.puntos_popularidad()\n"
   ]
  },
  {
   "cell_type": "code",
   "execution_count": 13,
   "metadata": {},
   "outputs": [
    {
     "name": "stdout",
     "output_type": "stream",
     "text": [
      "El colaborador principal de la canción Meant to Be es Florida Georgia Line\n"
     ]
    }
   ],
   "source": [
    "cancion3.colaborador_principal()"
   ]
  },
  {
   "cell_type": "markdown",
   "metadata": {},
   "source": [
    "## Ejercicio 3. Definición de la subclase CancionPremiada\n",
    "3.1. Define  la clase CancionPremiada, la cual va a tener 5 atributos heredados de la clase Cancion (titulo, artista, album, duracion y genero) y va a tener un atributo básico (premios)\n",
    "\n",
    "3.2. Crea un método para la subclase CancionPremiada que nos permita mostrar todos los detalles de una canción concreta (incluidos los premios ganados).\n",
    "\n",
    "3.3. Crea un método que nos permita obtener el número de premios que ha ganado la canción.\n",
    "\n",
    "3.4. Crea un método que nos permita conocer si la canción ha ganado algún premio prestigioso de una lista predefinida de premios prestigiosos.\n",
    "```python\n",
    "lista_premios = [\"Grammy\", \"Oscar\", \"Golden Globe\", \"Brit Award\"]\n",
    "\n",
    "```\n",
    "\n",
    "3.5. Crea una instancias de la clase CancionPremiada con la siguiente info: (\"Just the Way You Are\", \"Bruno Mars\", \"Doo-Wops & Hooligans\", 3.40, \"Pop\", [\"Grammy\", \"American Music Award\"])\n",
    "\n",
    "3.6. Comprueba el funcionamiento de cada uno de los métodos de la subclase"
   ]
  },
  {
   "cell_type": "code",
   "execution_count": 14,
   "metadata": {},
   "outputs": [],
   "source": [
    "class CancionPremiada(Cancion):\n",
    "    def __init__(self, titulo, artista, album, duracion, genero, premios):\n",
    "        super().__init__(titulo, artista, album, duracion, genero)\n",
    "        self.premios = premios\n",
    "    \n",
    "    def mostrar_detalles(self):\n",
    "        print(f\"Título: {self.titulo}\") \n",
    "        print(f\"Artista: {self.artista}\") \n",
    "        print(f\"Álbum: {self.album}\") \n",
    "        print(f\"Duración: {self.duracion} minutos\") \n",
    "        print(f\"Género: {self.genero}\")\n",
    "        print(f\"Premios : {', '.join(self.premios) if self.premios else 'Ninguno'}\")\n",
    "    \n",
    "    def num_premios(self):\n",
    "        num_premios = len(self.premios)\n",
    "        print(f\"La cancion {self.titulo} tiene {num_premios} premios\")\n",
    "    \n",
    "    def premio_prestigio(self):\n",
    "        lista_premios = [\"Grammy\", \"Oscar\", \"Golden Globe\", \"Brit Award\"]\n",
    "        premios_ganados =[]\n",
    "        for premio in self.premios:\n",
    "            if premio in lista_premios:\n",
    "                premios_ganados.append(premio)\n",
    "                print(f\"La canción {self.titulo} ha ganado los premios {\" \".join(premios_ganados)}\")"
   ]
  },
  {
   "cell_type": "code",
   "execution_count": 15,
   "metadata": {},
   "outputs": [],
   "source": [
    "cancion4 = CancionPremiada(\"Just the Way You Are\", \"Bruno Mars\", \"Doo-Wops & Hooligans\", 3.40, \"Pop\", [\"Grammy\", \"American Music Award\"])"
   ]
  },
  {
   "cell_type": "code",
   "execution_count": 16,
   "metadata": {},
   "outputs": [
    {
     "name": "stdout",
     "output_type": "stream",
     "text": [
      "Título: Just the Way You Are\n",
      "Artista: Bruno Mars\n",
      "Álbum: Doo-Wops & Hooligans\n",
      "Duración: 3.4 minutos\n",
      "Género: Pop\n",
      "Premios : Grammy, American Music Award\n"
     ]
    }
   ],
   "source": [
    "cancion4.mostrar_detalles()"
   ]
  },
  {
   "cell_type": "code",
   "execution_count": 17,
   "metadata": {},
   "outputs": [
    {
     "name": "stdout",
     "output_type": "stream",
     "text": [
      "La cancion Just the Way You Are tiene 2 premios\n"
     ]
    }
   ],
   "source": [
    "cancion4.num_premios()"
   ]
  },
  {
   "cell_type": "code",
   "execution_count": 18,
   "metadata": {},
   "outputs": [
    {
     "name": "stdout",
     "output_type": "stream",
     "text": [
      "La canción Just the Way You Are ha ganado los premios Grammy\n"
     ]
    }
   ],
   "source": [
    "cancion4.premio_prestigio()"
   ]
  },
  {
   "cell_type": "markdown",
   "metadata": {},
   "source": [
    "## Ejercicio 4. Definición de la clase Playlist\n",
    "4.1. Define  la clase Playlist, la cual va a tener 1 atributo básico. (nombre) y va a tener una lista con las canciones (inicialmente estará vacía)\n",
    "\n",
    "4.2. Crea un método para la clase Playlist que nos permita añadir una canción a nuestra Playlist. (Esta canción va a ser un objeto de la clase Cancion)\n",
    "\n",
    "4.3. Crea un método que nos permita eliminar canciones de nuestra Playlist.\n",
    "\n",
    "4.4. Crea un método que nos permita visualizar el nombre de nuestra playlist, las canciones que tiene y su información. \n",
    "\n",
    "4.5. Crea un método que nos permita encontrar y visualizar todas las canciones de un artista concreto de nuestra Playlist\n",
    "\n",
    "4.6. Crea un método para contar el número total de canciones de nuestra playlist y su duración total\n",
    "\n",
    "4.7. Crea un método que nos permita ordenar aleatoriamente las canciones de nuestra playlist\n",
    "\n",
    "4.8. Crea una instancia de la clase Playlist\n",
    "\n",
    "4.9. Dadas las listas canciones, canciones_colaboracion y canciones_premiadas crea instancias de cada clase que le corresponda y añade las canciones a la clase Playlist\n",
    "\n",
    "4.10. Elimina las siguientes canciones. [\"God Only Knows\", \"All of Me\", \"FRIENDS\"]\n",
    "\n",
    "4.11. Comprueba el funcionamiento de cada uno de los métodos de la clase\n",
    "\n",
    "```python\n",
    "canciones = [\n",
    "    (\"Yesterday\", \"The Beatles\", \"Help!\", 2.05, \"Rock\"),\n",
    "    (\"Bohemian Rhapsody\", \"Queen\", \"A Night at the Opera\", 5.55, \"Rock\"),\n",
    "    (\"Hotel California\", \"Eagles\", \"Hotel California\", 6.30, \"Rock\"),\n",
    "    (\"Like a Rolling Stone\", \"Bob Dylan\", \"Highway 61 Revisited\", 6.13, \"Folk Rock\"),\n",
    "    (\"What's Going On\", \"Marvin Gaye\", \"What's Going On\", 3.53, \"Soul\"),\n",
    "    (\"Stairway to Heaven\", \"Led Zeppelin\", \"Led Zeppelin IV\", 8.02, \"Rock\"),\n",
    "    (\"Imagine\", \"John Lennon\", \"Imagine\", 3.01, \"Pop Rock\"),\n",
    "    (\"Smells Like Teen Spirit\", \"Nirvana\", \"Nevermind\", 5.01, \"Grunge\"),\n",
    "    (\"Good Vibrations\", \"The Beach Boys\", \"Smiley Smile\", 3.37, \"Pop\"),\n",
    "    (\"Purple Haze\", \"Jimi Hendrix\", \"Are You Experienced\", 2.51, \"Rock\"),\n",
    "    (\"Billie Jean\", \"Michael Jackson\", \"Thriller\", 4.54, \"Pop\"),\n",
    "    (\"I Can't Get No (Satisfaction)\", \"The Rolling Stones\", \"Out of Our Heads\", 3.43, \"Rock\"),\n",
    "    (\"God Only Knows\", \"The Beach Boys\", \"Pet Sounds\", 2.55, \"Pop\"),\n",
    "    (\"A Day in the Life\", \"The Beatles\", \"Sgt. Pepper's Lonely Hearts Club Band\", 5.38, \"Rock\"),\n",
    "    (\"Layla\", \"Derek and the Dominos\", \"Layla and Other Assorted Love Songs\", 7.05, \"Rock\"),\n",
    "    (\"What's Love Got to Do with It\", \"Tina Turner\", \"Private Dancer\", 3.49, \"Pop\"),\n",
    "    (\"Thunder Road\", \"Bruce Springsteen\", \"Born to Run\", 4.49, \"Rock\"),\n",
    "    (\"Hotel California\", \"Eagles\", \"Hotel California\", 6.30, \"Rock\"),\n",
    "    (\"Superstition\", \"Stevie Wonder\", \"Talking Book\", 4.26, \"Funk\"),\n",
    "    (\"Waterloo Sunset\", \"The Kinks\", \"Something Else by The Kinks\", 3.15, \"Rock\"),\n",
    "    (\"Gimme Shelter\", \"The Rolling Stones\", \"Let It Bleed\", 4.31, \"Rock\"),\n",
    "    (\"What'd I Say\", \"Ray Charles\", \"What'd I Say\", 5.04, \"R&B\"),\n",
    "    (\"Heroes\", \"David Bowie\", \"'Heroes'\", 6.11, \"Rock\"),\n",
    "    (\"California Dreamin'\", \"The Mamas & the Papas\", \"If You Can Believe Your Eyes and Ears\", 2.42, \"Pop\"),\n",
    "    (\"Losing My Religion\", \"R.E.M.\", \"Out of Time\", 4.28, \"Alternative Rock\"),\n",
    "    (\"House of the Rising Sun\", \"The Animals\", \"The Animals\", 4.29, \"Rock\"),\n",
    "    (\"Sweet Child o' Mine\", \"Guns N' Roses\", \"Appetite for Destruction\", 5.56, \"Rock\"),\n",
    "    (\"All Along the Watchtower\", \"The Jimi Hendrix Experience\", \"Electric Ladyland\", 4.01, \"Rock\"),\n",
    "    (\"Jolene\", \"Dolly Parton\", \"Jolene\", 2.42, \"Country\"),\n",
    "    (\"I Want to Hold Your Hand\", \"The Beatles\", \"Meet the Beatles!\", 2.24, \"Pop\"),\n",
    "    (\"Born to Run\", \"Bruce Springsteen\", \"Born to Run\", 4.30, \"Rock\"),\n",
    "    (\"No Woman, No Cry\", \"Bob Marley & The Wailers\", \"Live!\", 7.08, \"Reggae\"),\n",
    "    (\"Every Breath You Take\", \"The Police\", \"Synchronicity\", 4.13, \"Rock\"),\n",
    "    (\"Respect\", \"Aretha Franklin\", \"I Never Loved a Man the Way I Love You\", 2.29, \"Soul\"),\n",
    "    (\"Bridge Over Troubled Water\", \"Simon & Garfunkel\", \"Bridge Over Troubled Water\", 4.52, \"Folk\"),\n",
    "    (\"Light My Fire\", \"The Doors\", \"The Doors\", 7.06, \"Rock\"),\n",
    "    (\"My Girl\", \"The Temptations\", \"The Temptations Sing Smokey\", 2.55, \"Soul\"),\n",
    "    (\"Hey Jude\", \"The Beatles\", \"Hey Jude\", 7.11, \"Rock\"),\n",
    "    (\"Ring of Fire\", \"Johnny Cash\", \"Ring of Fire: The Best of Johnny Cash\", 2.38, \"Country\"),\n",
    "    (\"Walk on the Wild Side\", \"Lou Reed\", \"Transformer\", 4.12, \"Rock\"),\n",
    "    (\"I Will Survive\", \"Gloria Gaynor\", \"Love Tracks\", 4.57, \"Disco\"),\n",
    "    (\"Ain't No Mountain High Enough\", \"Marvin Gaye & Tammi Terrell\", \"United\", 2.29, \"Soul\"),\n",
    "    (\"I Heard It Through the Grapevine\", \"Marvin Gaye\", \"In the Groove\", 3.13, \"Soul\"),\n",
    "    (\"Let It Be\", \"The Beatles\", \"Let It Be\", 4.03, \"Rock\"),\n",
    "    (\"Hallelujah\", \"Leonard Cohen\", \"Various Positions\", 4.36, \"Folk\"),\n",
    "    (\"Blowin' in the Wind\", \"Bob Dylan\", \"The Freewheelin' Bob Dylan\", 2.49, \"Folk\"),\n",
    "    (\"Hotel California\", \"Eagles\", \"Hotel California\", 6.30, \"Rock\"),\n",
    "    (\"Born to Be Wild\", \"Steppenwolf\", \"Steppenwolf\", 3.28, \"Rock\"),\n",
    "    (\"You Shook Me All Night Long\", \"AC/DC\", \"Back in Black\", 3.30, \"Rock\"),\n",
    "    (\"Good Times Bad Times\", \"Led Zeppelin\", \"Led Zeppelin\", 2.47, \"Rock\")\n",
    "]\n",
    "\n",
    "canciones_colaboracion = [\n",
    "    (\"Rain on Me\", \"Lady Gaga\", \"Chromatica\", 3.02, \"Pop\", [\"Ariana Grande\"]),\n",
    "    (\"Señorita\", \"Shawn Mendes\", \"Shawn Mendes\", 3.10, \"Pop\", [\"Camila Cabello\"]),\n",
    "    (\"I Don't Care\", \"Ed Sheeran\", \"No.6 Collaborations Project\", 3.39, \"Pop\", [\"Justin Bieber\"]),\n",
    "    (\"Shallow\", \"Lady Gaga\", \"A Star Is Born\", 3.37, \"Soundtrack\", [\"Bradley Cooper\"]),\n",
    "    (\"Havana\", \"Camila Cabello\", \"Camila\", 3.37, \"Pop\", [\"Young Thug\"]),\n",
    "    (\"Savage Love\", \"Jawsh 685\", \"Savage Love\", 2.51, \"Pop\", [\"Jason Derulo\"]),\n",
    "    (\"One Kiss\", \"Calvin Harris\", \"One Kiss\", 3.34, \"Electronic\", [\"Dua Lipa\"]),\n",
    "    (\"Stay\", \"The Kid LAROI\", \"Stay\", 2.21, \"Pop\", [\"Justin Bieber\"]),\n",
    "    (\"Closer\", \"The Chainsmokers\", \"Collage\", 4.04, \"Electronic\", [\"Halsey\"]),\n",
    "    (\"Rockstar\", \"DaBaby\", \"Blame It on Baby\", 3.01, \"Hip-Hop\", [\"Roddy Ricch\"]),\n",
    "    (\"Sicko Mode\", \"Travis Scott\", \"Astroworld\", 5.12, \"Hip-Hop\", [\"Drake\"]),\n",
    "    (\"Finesse (Remix)\", \"Bruno Mars\", \"24K Magic\", 3.37, \"Funk\", [\"Cardi B\"]),\n",
    "    (\"Eastside\", \"Benny Blanco\", \"Friends Keep Secrets\", 2.53, \"Pop\", [\"Halsey\", \"Khalid\"]),\n",
    "    (\"Don't Let Me Down\", \"The Chainsmokers\", \"Collage\", 3.28, \"Electronic\", [\"Daya\"]),\n",
    "    (\"Taki Taki\", \"DJ Snake\", \"Carte Blanche\", 3.32, \"Reggaeton\", [\"Selena Gomez\", \"Ozuna\", \"Cardi B\"]),\n",
    "    (\"Beautiful People\", \"Ed Sheeran\", \"No.6 Collaborations Project\", 3.18, \"Pop\", [\"Khalid\"]),\n",
    "    (\"I Like It\", \"Cardi B\", \"Invasion of Privacy\", 4.13, \"Hip-Hop\", [\"Bad Bunny\", \"J Balvin\"]),\n",
    "    (\"Meant to Be\", \"Bebe Rexha\", \"Expectations\", 2.44, \"Country Pop\", [\"Florida Georgia Line\"]),\n",
    "    (\"MIA\", \"Bad Bunny\", \"X 100PRE\", 3.30, \"Reggaeton\", [\"Drake\"]),\n",
    "    (\"FRIENDS\", \"Marshmello\", \"Joytime II\", 3.22, \"Electronic\", [\"Anne-Marie\"]),\n",
    "    (\"No Brainer\", \"DJ Khaled\", \"Father of Asahd\", 4.20, \"Hip-Hop\", [\"Justin Bieber\", \"Chance the Rapper\", \"Quavo\"]),\n",
    "    (\"Tusa\", \"Karol G\", \"Tusa\", 3.20, \"Reggaeton\", [\"Nicki Minaj\"]),\n",
    "    (\"Talk\", \"Khalid\", \"Free Spirit\", 3.17, \"R&B\", [\"Disclosure\"]),\n",
    "    (\"Goodbyes\", \"Post Malone\", \"Hollywood's Bleeding\", 2.55, \"Hip-Hop\", [\"Young Thug\"]),\n",
    "    (\"Señorita\", \"Shawn Mendes\", \"Romance\", 3.10, \"Pop\", [\"Camila Cabello\"]),\n",
    "    (\"Señorita\", \"Shawn Mendes\", \"Romance\", 3.10, \"Pop\", [\"Camila Cabello\"]),\n",
    "    (\"Dusk Till Dawn\", \"Zayn\", \"Icarus Falls\", 4.27, \"Pop\", [\"Sia\"]),\n",
    "    (\"Unforgettable\", \"French Montana\", \"Jungle Rules\", 3.53, \"Hip-Hop\", [\"Swae Lee\"]),\n",
    "    (\"Drip Too Hard\", \"Lil Baby\", \"Drip Harder\", 2.25, \"Hip-Hop\", [\"Gunna\"]),\n",
    "    (\"Wake Me Up\", \"Avicii\", \"True\", 4.07, \"Electronic\", [\"Aloe Blacc\"]),\n",
    "    (\"Stargazing\", \"Travis Scott\", \"Astroworld\", 4.30, \"Hip-Hop\", [\"Kid Cudi\"]),\n",
    "    (\"HUMBLE.\", \"Kendrick Lamar\", \"DAMN.\", 2.57, \"Hip-Hop\", [\"Mike WiLL Made-It\"]),\n",
    "    (\"Bodak Yellow\", \"Cardi B\", \"Invasion of Privacy\", 3.54, \"Hip-Hop\", [\"J White Did It\"]),\n",
    "    (\"Love Lies\", \"Khalid\", \"Love, Simon\", 3.22, \"R&B\", [\"Normani\"]),\n",
    "    (\"Body\", \"Loud Luxury\", \"Nights Like This\", 2.43, \"Electronic\", [\"Brando\"]),\n",
    "    (\"I Took a Pill in Ibiza\", \"Mike Posner\", \"At Night, Alone\", 3.19, \"Electronic\", [\"Seeb\"]),\n",
    "    (\"Hotline Bling\", \"Drake\", \"Views\", 4.27, \"Hip-Hop\", [\"Nineteen85\"]),\n",
    "    (\"Falling\", \"Trevor Daniel\", \"Nicotine\", 2.39, \"Pop\", [\"Charlie Handsome\"]),\n",
    "    (\"SAD!\", \"XXXTENTACION\", \"?\", 2.46, \"Hip-Hop\", [\"John Cunningham\"]),\n",
    "    (\"Without Me\", \"Halsey\", \"Manic\", 3.21, \"Pop\", [\"Louis Bell\"]),\n",
    "    (\"Hot Girl Summer\", \"Megan Thee Stallion\", \"Hot Girl Summer\", 3.19, \"Hip-Hop\", [\"Nicki Minaj\", \"Ty Dolla $ign\"]),\n",
    "    (\"Delicate\", \"Taylor Swift\", \"Reputation\", 3.52, \"Pop\", [\"Max Martin\"]),\n",
    "    (\"Good Old Days\", \"Macklemore\", \"Gemini\", 4.00, \"Pop\", [\"Kesha\"]),\n",
    "    (\"Attention\", \"Charlie Puth\", \"Voicenotes\", 3.31, \"Pop\", [\"Jacob Kasher\"]),\n",
    "    (\"Dancing with a Stranger\", \"Sam Smith\", \"Love Goes\", 2.51, \"Pop\", [\"Normani\"]),\n",
    "    (\"IDGAF\", \"Dua Lipa\", \"Dua Lipa\", 3.38, \"Pop\", [\"Jason Evigan\"]),\n",
    "    (\"Don't Call Me Up\", \"Mabel\", \"High Expectations\", 2.58, \"Pop\", [\"Steve Mac\"]),\n",
    "    (\"Talk Dirty\", \"Jason Derulo\", \"Tattoos\", 2.57, \"Hip-Hop\", [\"2 Chainz\"]),\n",
    "    (\"Let Me Love You\", \"DJ Snake\", \"Encore\", 3.25, \"Electronic\", [\"Justin Bieber\"]),\n",
    "]\n",
    "\n",
    "canciones_premiadas = [\n",
    "    (\"Rolling in the Deep\", \"Adele\", \"21\", 3.48, \"Soul\", [\"Grammy\", \"Brit Award\", \"MTV Video Music Award\"]),\n",
    "    (\"Bad Guy\", \"Billie Eilish\", \"When We All Fall Asleep, Where Do We Go?\", 3.14, \"Alternative\", [\"Grammy\", \"MTV Europe Music Award\"]),\n",
    "    (\"Uptown Funk\", \"Mark Ronson\", \"Uptown Special\", 4.30, \"Funk\", [\"Grammy\", \"Brit Award\"]),\n",
    "    (\"Hello\", \"Adele\", \"25\", 4.55, \"Soul\", [\"Grammy\", \"Brit Award\", \"Billboard Music Award\"]),\n",
    "    (\"Stay with Me\", \"Sam Smith\", \"In the Lonely Hour\", 2.52, \"Pop\", [\"Grammy\", \"Brit Award\", \"iHeartRadio Music Award\"]),\n",
    "    (\"Thinking Out Loud\", \"Ed Sheeran\", \"x\", 4.41, \"Pop\", [\"Grammy\", \"Brit Award\", \"Ivor Novello Award\"]),\n",
    "    (\"Shape of You\", \"Ed Sheeran\", \"÷\", 3.53, \"Pop\", [\"Grammy\", \"Brit Award\", \"Billboard Music Award\"]),\n",
    "    (\"We Are Young\", \"Fun.\", \"Some Nights\", 4.10, \"Alternative\", [\"Grammy\", \"MTV Video Music Award\"]),\n",
    "    (\"Royals\", \"Lorde\", \"Pure Heroine\", 3.10, \"Pop\", [\"Grammy\", \"MTV Video Music Award\"]),\n",
    "    (\"HUMBLE.\", \"Kendrick Lamar\", \"DAMN.\", 2.57, \"Hip-Hop\", [\"Grammy\", \"MTV Video Music Award\", \"BET Hip Hop Award\"]),\n",
    "    (\"Blinding Lights\", \"The Weeknd\", \"After Hours\", 3.22, \"Pop\", [\"Billboard Music Award\", \"MTV Video Music Award\"]),\n",
    "    (\"I Will Always Love You\", \"Whitney Houston\", \"The Bodyguard\", 4.31, \"Soul\", [\"Grammy\", \"American Music Award\"]),\n",
    "    (\"My Heart Will Go On\", \"Celine Dion\", \"Let's Talk About Love\", 4.40, \"Pop\", [\"Grammy\", \"Golden Globe\", \"Academy Award\"]),\n",
    "    (\"Toxic\", \"Britney Spears\", \"In the Zone\", 3.19, \"Pop\", [\"Grammy\", \"MTV Europe Music Award\"]),\n",
    "    (\"Rehab\", \"Amy Winehouse\", \"Back to Black\", 3.35, \"Soul\", [\"Grammy\", \"Brit Award\"]),\n",
    "    (\"Bad Romance\", \"Lady Gaga\", \"The Fame Monster\", 4.54, \"Pop\", [\"Grammy\", \"MTV Video Music Award\", \"Brit Award\"]),\n",
    "    (\"Tears in Heaven\", \"Eric Clapton\", \"Rush\", 4.36, \"Rock\", [\"Grammy\", \"Brit Award\"]),\n",
    "    (\"Kiss from a Rose\", \"Seal\", \"Seal\", 4.48, \"Pop\", [\"Grammy\", \"Brit Award\"]),\n",
    "    (\"Fallin'\", \"Alicia Keys\", \"Songs in A Minor\", 3.30, \"Soul\", [\"Grammy\", \"MTV Video Music Award\"]),\n",
    "    (\"Just the Way You Are\", \"Bruno Mars\", \"Doo-Wops & Hooligans\", 3.40, \"Pop\", [\"Grammy\", \"American Music Award\"]),\n",
    "    (\"All of Me\", \"John Legend\", \"Love in the Future\", 4.30, \"R&B\", [\"Billboard Music Award\", \"iHeartRadio Music Award\"]),\n",
    "    (\"Formation\", \"Beyoncé\", \"Lemonade\", 3.26, \"R&B\", [\"Grammy\", \"MTV Video Music Award\", \"BET Award\"]),\n",
    "    (\"Chandelier\", \"Sia\", \"1000 Forms of Fear\", 3.36, \"Pop\", [\"MTV Video Music Award\", \"ARIA Music Award\"]),\n",
    "    (\"Happy\", \"Pharrell Williams\", \"G I R L\", 3.53, \"Pop\", [\"Grammy\", \"Billboard Music Award\"]),\n",
    "    (\"Someone Like You\", \"Adele\", \"21\", 4.45, \"Soul\", [\"Grammy\", \"Brit Award\"]),\n",
    "    (\"All of Me\", \"John Legend\", \"Love in the Future\", 4.30, \"R&B\", [\"Billboard Music Award\", \"iHeartRadio Music Award\"]),\n",
    "    (\"Formation\", \"Beyoncé\", \"Lemonade\", 3.26, \"R&B\", [\"Grammy\", \"MTV Video Music Award\", \"BET Award\"]),\n",
    "    (\"Chandelier\", \"Sia\", \"1000 Forms of Fear\", 3.36, \"Pop\", [\"MTV Video Music Award\", \"ARIA Music Award\"]),\n",
    "    (\"Happy\", \"Pharrell Williams\", \"G I R L\", 3.53, \"Pop\", [\"Grammy\", \"Billboard Music Award\"]),\n",
    "    (\"Someone Like You\", \"Adele\", \"21\", 4.45, \"Soul\", [\"Grammy\", \"Brit Award\"]),\n",
    "    (\"Rolling in the Deep\", \"Adele\", \"21\", 3.48, \"Soul\", [\"Grammy\", \"Brit Award\", \"MTV Video Music Award\"]),\n",
    "    (\"Rehab\", \"Amy Winehouse\", \"Back to Black\", 3.35, \"Soul\", [\"Grammy\", \"Brit Award\"]),\n",
    "    (\"Rolling in the Deep\", \"Adele\", \"21\", 3.48, \"Soul\", [\"Grammy\", \"Brit Award\", \"MTV Video Music Award\"]),\n",
    "    (\"Royals\", \"Lorde\", \"Pure Heroine\", 3.10, \"Pop\", [\"Grammy\", \"MTV Video Music Award\"]),\n",
    "    (\"Blinding Lights\", \"The Weeknd\", \"After Hours\", 3.22, \"Pop\", [\"Billboard Music Award\", \"MTV Video Music Award\"]),\n",
    "    (\"I Will Always Love You\", \"Whitney Houston\", \"The Bodyguard\", 4.31, \"Soul\", [\"Grammy\", \"American Music Award\"]),\n",
    "    (\"My Heart Will Go On\", \"Celine Dion\", \"Let's Talk About Love\", 4.40, \"Pop\", [\"Grammy\", \"Golden Globe\", \"Academy Award\"]),\n",
    "    (\"Toxic\", \"Britney Spears\", \"In the Zone\", 3.19, \"Pop\", [\"Grammy\", \"MTV Europe Music Award\"]),\n",
    "    (\"Rehab\", \"Amy Winehouse\", \"Back to Black\", 3.35, \"Soul\", [\"Grammy\", \"Brit Award\"]),\n",
    "    (\"Hello\", \"Adele\", \"25\", 4.55, \"Soul\", [\"Grammy\", \"Brit Award\", \"Billboard Music Award\"]),\n",
    "    (\"Rolling in the Deep\", \"Adele\", \"21\", 3.48, \"Soul\", [\"Grammy\", \"Brit Award\", \"MTV Video Music Award\"]),\n",
    "    (\"Bad Romance\", \"Lady Gaga\", \"The Fame Monster\", 4.54, \"Pop\", [\"Grammy\", \"MTV Video Music Award\", \"Brit Award\"]),\n",
    "    (\"We Are Young\", \"Fun.\", \"Some Nights\", 4.10, \"Alternative\", [\"Grammy\", \"MTV Video Music Award\"]),\n",
    "    (\"Rolling in the Deep\", \"Adele\", \"21\", 3.48, \"Soul\", [\"Grammy\", \"Brit Award\", \"MTV Video Music Award\"]),\n",
    "    (\"HUMBLE.\", \"Kendrick Lamar\", \"DAMN.\", 2.57, \"Hip-Hop\", [\"Grammy\", \"MTV Video Music Award\", \"BET Hip Hop Award\"]),\n",
    "    (\"Blinding Lights\", \"The Weeknd\", \"After Hours\", 3.22, \"Pop\", [\"Billboard Music Award\", \"MTV Video Music Award\"]),\n",
    "    (\"All of Me\", \"John Legend\", \"Love in the Future\", 4.30, \"R&B\", [\"Billboard Music Award\", \"iHeartRadio Music Award\"]),\n",
    "    (\"Formation\", \"Beyoncé\", \"Lemonade\", 3.26, \"R&B\", [\"Grammy\", \"MTV Video Music Award\", \"BET Award\"])\n",
    "]\n",
    "\n",
    "```"
   ]
  },
  {
   "cell_type": "code",
   "execution_count": 19,
   "metadata": {},
   "outputs": [],
   "source": [
    "canciones = [\n",
    "    (\"Yesterday\", \"The Beatles\", \"Help!\", 2.05, \"Rock\"),\n",
    "    (\"Bohemian Rhapsody\", \"Queen\", \"A Night at the Opera\", 5.55, \"Rock\"),\n",
    "    (\"Hotel California\", \"Eagles\", \"Hotel California\", 6.30, \"Rock\"),\n",
    "    (\"Like a Rolling Stone\", \"Bob Dylan\", \"Highway 61 Revisited\", 6.13, \"Folk Rock\"),\n",
    "    (\"What's Going On\", \"Marvin Gaye\", \"What's Going On\", 3.53, \"Soul\"),\n",
    "    (\"Stairway to Heaven\", \"Led Zeppelin\", \"Led Zeppelin IV\", 8.02, \"Rock\"),\n",
    "    (\"Imagine\", \"John Lennon\", \"Imagine\", 3.01, \"Pop Rock\"),\n",
    "    (\"Smells Like Teen Spirit\", \"Nirvana\", \"Nevermind\", 5.01, \"Grunge\"),\n",
    "    (\"Good Vibrations\", \"The Beach Boys\", \"Smiley Smile\", 3.37, \"Pop\"),\n",
    "    (\"Purple Haze\", \"Jimi Hendrix\", \"Are You Experienced\", 2.51, \"Rock\"),\n",
    "    (\"Billie Jean\", \"Michael Jackson\", \"Thriller\", 4.54, \"Pop\"),\n",
    "    (\"I Can't Get No (Satisfaction)\", \"The Rolling Stones\", \"Out of Our Heads\", 3.43, \"Rock\"),\n",
    "    (\"God Only Knows\", \"The Beach Boys\", \"Pet Sounds\", 2.55, \"Pop\"),\n",
    "    (\"A Day in the Life\", \"The Beatles\", \"Sgt. Pepper's Lonely Hearts Club Band\", 5.38, \"Rock\"),\n",
    "    (\"Layla\", \"Derek and the Dominos\", \"Layla and Other Assorted Love Songs\", 7.05, \"Rock\"),\n",
    "    (\"What's Love Got to Do with It\", \"Tina Turner\", \"Private Dancer\", 3.49, \"Pop\"),\n",
    "    (\"Thunder Road\", \"Bruce Springsteen\", \"Born to Run\", 4.49, \"Rock\"),\n",
    "    (\"Hotel California\", \"Eagles\", \"Hotel California\", 6.30, \"Rock\"),\n",
    "    (\"Superstition\", \"Stevie Wonder\", \"Talking Book\", 4.26, \"Funk\"),\n",
    "    (\"Waterloo Sunset\", \"The Kinks\", \"Something Else by The Kinks\", 3.15, \"Rock\"),\n",
    "    (\"Gimme Shelter\", \"The Rolling Stones\", \"Let It Bleed\", 4.31, \"Rock\"),\n",
    "    (\"What'd I Say\", \"Ray Charles\", \"What'd I Say\", 5.04, \"R&B\"),\n",
    "    (\"Heroes\", \"David Bowie\", \"'Heroes'\", 6.11, \"Rock\"),\n",
    "    (\"California Dreamin'\", \"The Mamas & the Papas\", \"If You Can Believe Your Eyes and Ears\", 2.42, \"Pop\"),\n",
    "    (\"Losing My Religion\", \"R.E.M.\", \"Out of Time\", 4.28, \"Alternative Rock\"),\n",
    "    (\"House of the Rising Sun\", \"The Animals\", \"The Animals\", 4.29, \"Rock\"),\n",
    "    (\"Sweet Child o' Mine\", \"Guns N' Roses\", \"Appetite for Destruction\", 5.56, \"Rock\"),\n",
    "    (\"All Along the Watchtower\", \"The Jimi Hendrix Experience\", \"Electric Ladyland\", 4.01, \"Rock\"),\n",
    "    (\"Jolene\", \"Dolly Parton\", \"Jolene\", 2.42, \"Country\"),\n",
    "    (\"I Want to Hold Your Hand\", \"The Beatles\", \"Meet the Beatles!\", 2.24, \"Pop\"),\n",
    "    (\"Born to Run\", \"Bruce Springsteen\", \"Born to Run\", 4.30, \"Rock\"),\n",
    "    (\"No Woman, No Cry\", \"Bob Marley & The Wailers\", \"Live!\", 7.08, \"Reggae\"),\n",
    "    (\"Every Breath You Take\", \"The Police\", \"Synchronicity\", 4.13, \"Rock\"),\n",
    "    (\"Respect\", \"Aretha Franklin\", \"I Never Loved a Man the Way I Love You\", 2.29, \"Soul\"),\n",
    "    (\"Bridge Over Troubled Water\", \"Simon & Garfunkel\", \"Bridge Over Troubled Water\", 4.52, \"Folk\"),\n",
    "    (\"Light My Fire\", \"The Doors\", \"The Doors\", 7.06, \"Rock\"),\n",
    "    (\"My Girl\", \"The Temptations\", \"The Temptations Sing Smokey\", 2.55, \"Soul\"),\n",
    "    (\"Hey Jude\", \"The Beatles\", \"Hey Jude\", 7.11, \"Rock\"),\n",
    "    (\"Ring of Fire\", \"Johnny Cash\", \"Ring of Fire: The Best of Johnny Cash\", 2.38, \"Country\"),\n",
    "    (\"Walk on the Wild Side\", \"Lou Reed\", \"Transformer\", 4.12, \"Rock\"),\n",
    "    (\"I Will Survive\", \"Gloria Gaynor\", \"Love Tracks\", 4.57, \"Disco\"),\n",
    "    (\"Ain't No Mountain High Enough\", \"Marvin Gaye & Tammi Terrell\", \"United\", 2.29, \"Soul\"),\n",
    "    (\"I Heard It Through the Grapevine\", \"Marvin Gaye\", \"In the Groove\", 3.13, \"Soul\"),\n",
    "    (\"Let It Be\", \"The Beatles\", \"Let It Be\", 4.03, \"Rock\"),\n",
    "    (\"Hallelujah\", \"Leonard Cohen\", \"Various Positions\", 4.36, \"Folk\"),\n",
    "    (\"Blowin' in the Wind\", \"Bob Dylan\", \"The Freewheelin' Bob Dylan\", 2.49, \"Folk\"),\n",
    "    (\"Hotel California\", \"Eagles\", \"Hotel California\", 6.30, \"Rock\"),\n",
    "    (\"Born to Be Wild\", \"Steppenwolf\", \"Steppenwolf\", 3.28, \"Rock\"),\n",
    "    (\"You Shook Me All Night Long\", \"AC/DC\", \"Back in Black\", 3.30, \"Rock\"),\n",
    "    (\"Good Times Bad Times\", \"Led Zeppelin\", \"Led Zeppelin\", 2.47, \"Rock\")\n",
    "]\n",
    "\n",
    "canciones_colaboracion = [\n",
    "    (\"Rain on Me\", \"Lady Gaga\", \"Chromatica\", 3.02, \"Pop\", [\"Ariana Grande\"]),\n",
    "    (\"Señorita\", \"Shawn Mendes\", \"Shawn Mendes\", 3.10, \"Pop\", [\"Camila Cabello\"]),\n",
    "    (\"I Don't Care\", \"Ed Sheeran\", \"No.6 Collaborations Project\", 3.39, \"Pop\", [\"Justin Bieber\"]),\n",
    "    (\"Shallow\", \"Lady Gaga\", \"A Star Is Born\", 3.37, \"Soundtrack\", [\"Bradley Cooper\"]),\n",
    "    (\"Havana\", \"Camila Cabello\", \"Camila\", 3.37, \"Pop\", [\"Young Thug\"]),\n",
    "    (\"Savage Love\", \"Jawsh 685\", \"Savage Love\", 2.51, \"Pop\", [\"Jason Derulo\"]),\n",
    "    (\"One Kiss\", \"Calvin Harris\", \"One Kiss\", 3.34, \"Electronic\", [\"Dua Lipa\"]),\n",
    "    (\"Stay\", \"The Kid LAROI\", \"Stay\", 2.21, \"Pop\", [\"Justin Bieber\"]),\n",
    "    (\"Closer\", \"The Chainsmokers\", \"Collage\", 4.04, \"Electronic\", [\"Halsey\"]),\n",
    "    (\"Rockstar\", \"DaBaby\", \"Blame It on Baby\", 3.01, \"Hip-Hop\", [\"Roddy Ricch\"]),\n",
    "    (\"Sicko Mode\", \"Travis Scott\", \"Astroworld\", 5.12, \"Hip-Hop\", [\"Drake\"]),\n",
    "    (\"Finesse (Remix)\", \"Bruno Mars\", \"24K Magic\", 3.37, \"Funk\", [\"Cardi B\"]),\n",
    "    (\"Eastside\", \"Benny Blanco\", \"Friends Keep Secrets\", 2.53, \"Pop\", [\"Halsey\", \"Khalid\"]),\n",
    "    (\"Don't Let Me Down\", \"The Chainsmokers\", \"Collage\", 3.28, \"Electronic\", [\"Daya\"]),\n",
    "    (\"Taki Taki\", \"DJ Snake\", \"Carte Blanche\", 3.32, \"Reggaeton\", [\"Selena Gomez\", \"Ozuna\", \"Cardi B\"]),\n",
    "    (\"Beautiful People\", \"Ed Sheeran\", \"No.6 Collaborations Project\", 3.18, \"Pop\", [\"Khalid\"]),\n",
    "    (\"I Like It\", \"Cardi B\", \"Invasion of Privacy\", 4.13, \"Hip-Hop\", [\"Bad Bunny\", \"J Balvin\"]),\n",
    "    (\"Meant to Be\", \"Bebe Rexha\", \"Expectations\", 2.44, \"Country Pop\", [\"Florida Georgia Line\"]),\n",
    "    (\"MIA\", \"Bad Bunny\", \"X 100PRE\", 3.30, \"Reggaeton\", [\"Drake\"]),\n",
    "    (\"FRIENDS\", \"Marshmello\", \"Joytime II\", 3.22, \"Electronic\", [\"Anne-Marie\"]),\n",
    "    (\"No Brainer\", \"DJ Khaled\", \"Father of Asahd\", 4.20, \"Hip-Hop\", [\"Justin Bieber\", \"Chance the Rapper\", \"Quavo\"]),\n",
    "    (\"Tusa\", \"Karol G\", \"Tusa\", 3.20, \"Reggaeton\", [\"Nicki Minaj\"]),\n",
    "    (\"Talk\", \"Khalid\", \"Free Spirit\", 3.17, \"R&B\", [\"Disclosure\"]),\n",
    "    (\"Goodbyes\", \"Post Malone\", \"Hollywood's Bleeding\", 2.55, \"Hip-Hop\", [\"Young Thug\"]),\n",
    "    (\"Señorita\", \"Shawn Mendes\", \"Romance\", 3.10, \"Pop\", [\"Camila Cabello\"]),\n",
    "    (\"Señorita\", \"Shawn Mendes\", \"Romance\", 3.10, \"Pop\", [\"Camila Cabello\"]),\n",
    "    (\"Dusk Till Dawn\", \"Zayn\", \"Icarus Falls\", 4.27, \"Pop\", [\"Sia\"]),\n",
    "    (\"Unforgettable\", \"French Montana\", \"Jungle Rules\", 3.53, \"Hip-Hop\", [\"Swae Lee\"]),\n",
    "    (\"Drip Too Hard\", \"Lil Baby\", \"Drip Harder\", 2.25, \"Hip-Hop\", [\"Gunna\"]),\n",
    "    (\"Wake Me Up\", \"Avicii\", \"True\", 4.07, \"Electronic\", [\"Aloe Blacc\"]),\n",
    "    (\"Stargazing\", \"Travis Scott\", \"Astroworld\", 4.30, \"Hip-Hop\", [\"Kid Cudi\"]),\n",
    "    (\"HUMBLE.\", \"Kendrick Lamar\", \"DAMN.\", 2.57, \"Hip-Hop\", [\"Mike WiLL Made-It\"]),\n",
    "    (\"Bodak Yellow\", \"Cardi B\", \"Invasion of Privacy\", 3.54, \"Hip-Hop\", [\"J White Did It\"]),\n",
    "    (\"Love Lies\", \"Khalid\", \"Love, Simon\", 3.22, \"R&B\", [\"Normani\"]),\n",
    "    (\"Body\", \"Loud Luxury\", \"Nights Like This\", 2.43, \"Electronic\", [\"Brando\"]),\n",
    "    (\"I Took a Pill in Ibiza\", \"Mike Posner\", \"At Night, Alone\", 3.19, \"Electronic\", [\"Seeb\"]),\n",
    "    (\"Hotline Bling\", \"Drake\", \"Views\", 4.27, \"Hip-Hop\", [\"Nineteen85\"]),\n",
    "    (\"Falling\", \"Trevor Daniel\", \"Nicotine\", 2.39, \"Pop\", [\"Charlie Handsome\"]),\n",
    "    (\"SAD!\", \"XXXTENTACION\", \"?\", 2.46, \"Hip-Hop\", [\"John Cunningham\"]),\n",
    "    (\"Without Me\", \"Halsey\", \"Manic\", 3.21, \"Pop\", [\"Louis Bell\"]),\n",
    "    (\"Hot Girl Summer\", \"Megan Thee Stallion\", \"Hot Girl Summer\", 3.19, \"Hip-Hop\", [\"Nicki Minaj\", \"Ty Dolla $ign\"]),\n",
    "    (\"Delicate\", \"Taylor Swift\", \"Reputation\", 3.52, \"Pop\", [\"Max Martin\"]),\n",
    "    (\"Good Old Days\", \"Macklemore\", \"Gemini\", 4.00, \"Pop\", [\"Kesha\"]),\n",
    "    (\"Attention\", \"Charlie Puth\", \"Voicenotes\", 3.31, \"Pop\", [\"Jacob Kasher\"]),\n",
    "    (\"Dancing with a Stranger\", \"Sam Smith\", \"Love Goes\", 2.51, \"Pop\", [\"Normani\"]),\n",
    "    (\"IDGAF\", \"Dua Lipa\", \"Dua Lipa\", 3.38, \"Pop\", [\"Jason Evigan\"]),\n",
    "    (\"Don't Call Me Up\", \"Mabel\", \"High Expectations\", 2.58, \"Pop\", [\"Steve Mac\"]),\n",
    "    (\"Talk Dirty\", \"Jason Derulo\", \"Tattoos\", 2.57, \"Hip-Hop\", [\"2 Chainz\"]),\n",
    "    (\"Let Me Love You\", \"DJ Snake\", \"Encore\", 3.25, \"Electronic\", [\"Justin Bieber\"]),\n",
    "]\n",
    "\n",
    "canciones_premiadas = [\n",
    "    (\"Rolling in the Deep\", \"Adele\", \"21\", 3.48, \"Soul\", [\"Grammy\", \"Brit Award\", \"MTV Video Music Award\"]),\n",
    "    (\"Bad Guy\", \"Billie Eilish\", \"When We All Fall Asleep, Where Do We Go?\", 3.14, \"Alternative\", [\"Grammy\", \"MTV Europe Music Award\"]),\n",
    "    (\"Uptown Funk\", \"Mark Ronson\", \"Uptown Special\", 4.30, \"Funk\", [\"Grammy\", \"Brit Award\"]),\n",
    "    (\"Hello\", \"Adele\", \"25\", 4.55, \"Soul\", [\"Grammy\", \"Brit Award\", \"Billboard Music Award\"]),\n",
    "    (\"Stay with Me\", \"Sam Smith\", \"In the Lonely Hour\", 2.52, \"Pop\", [\"Grammy\", \"Brit Award\", \"iHeartRadio Music Award\"]),\n",
    "    (\"Thinking Out Loud\", \"Ed Sheeran\", \"x\", 4.41, \"Pop\", [\"Grammy\", \"Brit Award\", \"Ivor Novello Award\"]),\n",
    "    (\"Shape of You\", \"Ed Sheeran\", \"÷\", 3.53, \"Pop\", [\"Grammy\", \"Brit Award\", \"Billboard Music Award\"]),\n",
    "    (\"We Are Young\", \"Fun.\", \"Some Nights\", 4.10, \"Alternative\", [\"Grammy\", \"MTV Video Music Award\"]),\n",
    "    (\"Royals\", \"Lorde\", \"Pure Heroine\", 3.10, \"Pop\", [\"Grammy\", \"MTV Video Music Award\"]),\n",
    "    (\"HUMBLE.\", \"Kendrick Lamar\", \"DAMN.\", 2.57, \"Hip-Hop\", [\"Grammy\", \"MTV Video Music Award\", \"BET Hip Hop Award\"]),\n",
    "    (\"Blinding Lights\", \"The Weeknd\", \"After Hours\", 3.22, \"Pop\", [\"Billboard Music Award\", \"MTV Video Music Award\"]),\n",
    "    (\"I Will Always Love You\", \"Whitney Houston\", \"The Bodyguard\", 4.31, \"Soul\", [\"Grammy\", \"American Music Award\"]),\n",
    "    (\"My Heart Will Go On\", \"Celine Dion\", \"Let's Talk About Love\", 4.40, \"Pop\", [\"Grammy\", \"Golden Globe\", \"Academy Award\"]),\n",
    "    (\"Toxic\", \"Britney Spears\", \"In the Zone\", 3.19, \"Pop\", [\"Grammy\", \"MTV Europe Music Award\"]),\n",
    "    (\"Rehab\", \"Amy Winehouse\", \"Back to Black\", 3.35, \"Soul\", [\"Grammy\", \"Brit Award\"]),\n",
    "    (\"Bad Romance\", \"Lady Gaga\", \"The Fame Monster\", 4.54, \"Pop\", [\"Grammy\", \"MTV Video Music Award\", \"Brit Award\"]),\n",
    "    (\"Tears in Heaven\", \"Eric Clapton\", \"Rush\", 4.36, \"Rock\", [\"Grammy\", \"Brit Award\"]),\n",
    "    (\"Kiss from a Rose\", \"Seal\", \"Seal\", 4.48, \"Pop\", [\"Grammy\", \"Brit Award\"]),\n",
    "    (\"Fallin'\", \"Alicia Keys\", \"Songs in A Minor\", 3.30, \"Soul\", [\"Grammy\", \"MTV Video Music Award\"]),\n",
    "    (\"Just the Way You Are\", \"Bruno Mars\", \"Doo-Wops & Hooligans\", 3.40, \"Pop\", [\"Grammy\", \"American Music Award\"]),\n",
    "    (\"All of Me\", \"John Legend\", \"Love in the Future\", 4.30, \"R&B\", [\"Billboard Music Award\", \"iHeartRadio Music Award\"]),\n",
    "    (\"Formation\", \"Beyoncé\", \"Lemonade\", 3.26, \"R&B\", [\"Grammy\", \"MTV Video Music Award\", \"BET Award\"]),\n",
    "    (\"Chandelier\", \"Sia\", \"1000 Forms of Fear\", 3.36, \"Pop\", [\"MTV Video Music Award\", \"ARIA Music Award\"]),\n",
    "    (\"Happy\", \"Pharrell Williams\", \"G I R L\", 3.53, \"Pop\", [\"Grammy\", \"Billboard Music Award\"]),\n",
    "    (\"Someone Like You\", \"Adele\", \"21\", 4.45, \"Soul\", [\"Grammy\", \"Brit Award\"]),\n",
    "    (\"All of Me\", \"John Legend\", \"Love in the Future\", 4.30, \"R&B\", [\"Billboard Music Award\", \"iHeartRadio Music Award\"]),\n",
    "    (\"Formation\", \"Beyoncé\", \"Lemonade\", 3.26, \"R&B\", [\"Grammy\", \"MTV Video Music Award\", \"BET Award\"]),\n",
    "    (\"Chandelier\", \"Sia\", \"1000 Forms of Fear\", 3.36, \"Pop\", [\"MTV Video Music Award\", \"ARIA Music Award\"]),\n",
    "    (\"Happy\", \"Pharrell Williams\", \"G I R L\", 3.53, \"Pop\", [\"Grammy\", \"Billboard Music Award\"]),\n",
    "    (\"Someone Like You\", \"Adele\", \"21\", 4.45, \"Soul\", [\"Grammy\", \"Brit Award\"]),\n",
    "    (\"Rolling in the Deep\", \"Adele\", \"21\", 3.48, \"Soul\", [\"Grammy\", \"Brit Award\", \"MTV Video Music Award\"]),\n",
    "    (\"Rehab\", \"Amy Winehouse\", \"Back to Black\", 3.35, \"Soul\", [\"Grammy\", \"Brit Award\"]),\n",
    "    (\"Rolling in the Deep\", \"Adele\", \"21\", 3.48, \"Soul\", [\"Grammy\", \"Brit Award\", \"MTV Video Music Award\"]),\n",
    "    (\"Royals\", \"Lorde\", \"Pure Heroine\", 3.10, \"Pop\", [\"Grammy\", \"MTV Video Music Award\"]),\n",
    "    (\"Blinding Lights\", \"The Weeknd\", \"After Hours\", 3.22, \"Pop\", [\"Billboard Music Award\", \"MTV Video Music Award\"]),\n",
    "    (\"I Will Always Love You\", \"Whitney Houston\", \"The Bodyguard\", 4.31, \"Soul\", [\"Grammy\", \"American Music Award\"]),\n",
    "    (\"My Heart Will Go On\", \"Celine Dion\", \"Let's Talk About Love\", 4.40, \"Pop\", [\"Grammy\", \"Golden Globe\", \"Academy Award\"]),\n",
    "    (\"Toxic\", \"Britney Spears\", \"In the Zone\", 3.19, \"Pop\", [\"Grammy\", \"MTV Europe Music Award\"]),\n",
    "    (\"Rehab\", \"Amy Winehouse\", \"Back to Black\", 3.35, \"Soul\", [\"Grammy\", \"Brit Award\"]),\n",
    "    (\"Hello\", \"Adele\", \"25\", 4.55, \"Soul\", [\"Grammy\", \"Brit Award\", \"Billboard Music Award\"]),\n",
    "    (\"Rolling in the Deep\", \"Adele\", \"21\", 3.48, \"Soul\", [\"Grammy\", \"Brit Award\", \"MTV Video Music Award\"]),\n",
    "    (\"Bad Romance\", \"Lady Gaga\", \"The Fame Monster\", 4.54, \"Pop\", [\"Grammy\", \"MTV Video Music Award\", \"Brit Award\"]),\n",
    "    (\"We Are Young\", \"Fun.\", \"Some Nights\", 4.10, \"Alternative\", [\"Grammy\", \"MTV Video Music Award\"]),\n",
    "    (\"Rolling in the Deep\", \"Adele\", \"21\", 3.48, \"Soul\", [\"Grammy\", \"Brit Award\", \"MTV Video Music Award\"]),\n",
    "    (\"HUMBLE.\", \"Kendrick Lamar\", \"DAMN.\", 2.57, \"Hip-Hop\", [\"Grammy\", \"MTV Video Music Award\", \"BET Hip Hop Award\"]),\n",
    "    (\"Blinding Lights\", \"The Weeknd\", \"After Hours\", 3.22, \"Pop\", [\"Billboard Music Award\", \"MTV Video Music Award\"]),\n",
    "    (\"All of Me\", \"John Legend\", \"Love in the Future\", 4.30, \"R&B\", [\"Billboard Music Award\", \"iHeartRadio Music Award\"]),\n",
    "    (\"Formation\", \"Beyoncé\", \"Lemonade\", 3.26, \"R&B\", [\"Grammy\", \"MTV Video Music Award\", \"BET Award\"])\n",
    "]"
   ]
  },
  {
   "cell_type": "code",
   "execution_count": 32,
   "metadata": {},
   "outputs": [],
   "source": [
    "class Playlist:\n",
    "    def __init__(self, nombre):\n",
    "        self.nombre = nombre\n",
    "        self.canciones = []\n",
    "\n",
    "    def nuevas_canciones(self, lista):\n",
    "        for cancion in lista:\n",
    "            self.canciones.append(cancion)\n",
    "    \n",
    "    def eliminar_cancion(self,titulo):\n",
    "        for cancion in self.canciones:\n",
    "            if self.titulo == titulo:\n",
    "                self.canciones.remove(cancion)\n",
    "    \n",
    "    def mostrar_info_playlist(self):\n",
    "        print(f\"Playlist {self.nombre}:\")  \n",
    "        if not self.canciones: \n",
    "            print(\"La playlist está vacía.\") \n",
    "        else: \n",
    "            for cancion in self.canciones: \n",
    "                print(f\"{cancion.__dict__}\")\n",
    "\n",
    "    def buscar_artista(self,artista):\n",
    "        for cancion in canciones:\n",
    "            if cancion.artista == artista:\n",
    "                print(cancion.__dict__)\n",
    "    \n",
    " "
   ]
  },
  {
   "cell_type": "code",
   "execution_count": 33,
   "metadata": {},
   "outputs": [],
   "source": [
    "canciones_objetos = []\n",
    "for titulo, artista, album, duracion, genero in canciones:\n",
    "    cancion = Cancion(titulo, artista, album, duracion, genero)\n",
    "    canciones_objetos.append(cancion)\n",
    "canciones_colaboracion_objetos = []\n",
    "for titulo, artista, album, duracion, genero, artistas_colaboradores in canciones_colaboracion:\n",
    "    cancion = Colaboracion(titulo, artista, album, duracion, genero, artistas_colaboradores)\n",
    "    canciones_colaboracion_objetos.append(cancion)\n",
    "canciones_premiadas_objetos = []\n",
    "for titulo, artista, album, duracion, genero, premios in canciones_colaboracion:\n",
    "    cancion = CancionPremiada(titulo, artista, album, duracion, genero, premios)\n",
    "    canciones_premiadas_objetos.append(cancion)\n"
   ]
  },
  {
   "cell_type": "code",
   "execution_count": 34,
   "metadata": {},
   "outputs": [],
   "source": [
    "mis_canciones = Playlist(\"mis_canciones\")"
   ]
  },
  {
   "cell_type": "code",
   "execution_count": null,
   "metadata": {},
   "outputs": [],
   "source": [
    "mis_canciones.nuevas_canciones(canciones_objetos)\n",
    "mis_canciones.nuevas_canciones(canciones_colaboracion_objetos)\n",
    "mis_canciones.nuevas_canciones(canciones_premiadas_objetos)"
   ]
  },
  {
   "cell_type": "code",
   "execution_count": 36,
   "metadata": {},
   "outputs": [
    {
     "name": "stdout",
     "output_type": "stream",
     "text": [
      "Playlist mis_canciones:\n",
      "{'titulo': 'Yesterday', 'artista': 'The Beatles', 'album': 'Help!', 'duracion': 2.05, 'genero': 'Rock'}\n",
      "{'titulo': 'Bohemian Rhapsody', 'artista': 'Queen', 'album': 'A Night at the Opera', 'duracion': 5.55, 'genero': 'Rock'}\n",
      "{'titulo': 'Hotel California', 'artista': 'Eagles', 'album': 'Hotel California', 'duracion': 6.3, 'genero': 'Rock'}\n",
      "{'titulo': 'Like a Rolling Stone', 'artista': 'Bob Dylan', 'album': 'Highway 61 Revisited', 'duracion': 6.13, 'genero': 'Folk Rock'}\n",
      "{'titulo': \"What's Going On\", 'artista': 'Marvin Gaye', 'album': \"What's Going On\", 'duracion': 3.53, 'genero': 'Soul'}\n",
      "{'titulo': 'Stairway to Heaven', 'artista': 'Led Zeppelin', 'album': 'Led Zeppelin IV', 'duracion': 8.02, 'genero': 'Rock'}\n",
      "{'titulo': 'Imagine', 'artista': 'John Lennon', 'album': 'Imagine', 'duracion': 3.01, 'genero': 'Pop Rock'}\n",
      "{'titulo': 'Smells Like Teen Spirit', 'artista': 'Nirvana', 'album': 'Nevermind', 'duracion': 5.01, 'genero': 'Grunge'}\n",
      "{'titulo': 'Good Vibrations', 'artista': 'The Beach Boys', 'album': 'Smiley Smile', 'duracion': 3.37, 'genero': 'Pop'}\n",
      "{'titulo': 'Purple Haze', 'artista': 'Jimi Hendrix', 'album': 'Are You Experienced', 'duracion': 2.51, 'genero': 'Rock'}\n",
      "{'titulo': 'Billie Jean', 'artista': 'Michael Jackson', 'album': 'Thriller', 'duracion': 4.54, 'genero': 'Pop'}\n",
      "{'titulo': \"I Can't Get No (Satisfaction)\", 'artista': 'The Rolling Stones', 'album': 'Out of Our Heads', 'duracion': 3.43, 'genero': 'Rock'}\n",
      "{'titulo': 'God Only Knows', 'artista': 'The Beach Boys', 'album': 'Pet Sounds', 'duracion': 2.55, 'genero': 'Pop'}\n",
      "{'titulo': 'A Day in the Life', 'artista': 'The Beatles', 'album': \"Sgt. Pepper's Lonely Hearts Club Band\", 'duracion': 5.38, 'genero': 'Rock'}\n",
      "{'titulo': 'Layla', 'artista': 'Derek and the Dominos', 'album': 'Layla and Other Assorted Love Songs', 'duracion': 7.05, 'genero': 'Rock'}\n",
      "{'titulo': \"What's Love Got to Do with It\", 'artista': 'Tina Turner', 'album': 'Private Dancer', 'duracion': 3.49, 'genero': 'Pop'}\n",
      "{'titulo': 'Thunder Road', 'artista': 'Bruce Springsteen', 'album': 'Born to Run', 'duracion': 4.49, 'genero': 'Rock'}\n",
      "{'titulo': 'Hotel California', 'artista': 'Eagles', 'album': 'Hotel California', 'duracion': 6.3, 'genero': 'Rock'}\n",
      "{'titulo': 'Superstition', 'artista': 'Stevie Wonder', 'album': 'Talking Book', 'duracion': 4.26, 'genero': 'Funk'}\n",
      "{'titulo': 'Waterloo Sunset', 'artista': 'The Kinks', 'album': 'Something Else by The Kinks', 'duracion': 3.15, 'genero': 'Rock'}\n",
      "{'titulo': 'Gimme Shelter', 'artista': 'The Rolling Stones', 'album': 'Let It Bleed', 'duracion': 4.31, 'genero': 'Rock'}\n",
      "{'titulo': \"What'd I Say\", 'artista': 'Ray Charles', 'album': \"What'd I Say\", 'duracion': 5.04, 'genero': 'R&B'}\n",
      "{'titulo': 'Heroes', 'artista': 'David Bowie', 'album': \"'Heroes'\", 'duracion': 6.11, 'genero': 'Rock'}\n",
      "{'titulo': \"California Dreamin'\", 'artista': 'The Mamas & the Papas', 'album': 'If You Can Believe Your Eyes and Ears', 'duracion': 2.42, 'genero': 'Pop'}\n",
      "{'titulo': 'Losing My Religion', 'artista': 'R.E.M.', 'album': 'Out of Time', 'duracion': 4.28, 'genero': 'Alternative Rock'}\n",
      "{'titulo': 'House of the Rising Sun', 'artista': 'The Animals', 'album': 'The Animals', 'duracion': 4.29, 'genero': 'Rock'}\n",
      "{'titulo': \"Sweet Child o' Mine\", 'artista': \"Guns N' Roses\", 'album': 'Appetite for Destruction', 'duracion': 5.56, 'genero': 'Rock'}\n",
      "{'titulo': 'All Along the Watchtower', 'artista': 'The Jimi Hendrix Experience', 'album': 'Electric Ladyland', 'duracion': 4.01, 'genero': 'Rock'}\n",
      "{'titulo': 'Jolene', 'artista': 'Dolly Parton', 'album': 'Jolene', 'duracion': 2.42, 'genero': 'Country'}\n",
      "{'titulo': 'I Want to Hold Your Hand', 'artista': 'The Beatles', 'album': 'Meet the Beatles!', 'duracion': 2.24, 'genero': 'Pop'}\n",
      "{'titulo': 'Born to Run', 'artista': 'Bruce Springsteen', 'album': 'Born to Run', 'duracion': 4.3, 'genero': 'Rock'}\n",
      "{'titulo': 'No Woman, No Cry', 'artista': 'Bob Marley & The Wailers', 'album': 'Live!', 'duracion': 7.08, 'genero': 'Reggae'}\n",
      "{'titulo': 'Every Breath You Take', 'artista': 'The Police', 'album': 'Synchronicity', 'duracion': 4.13, 'genero': 'Rock'}\n",
      "{'titulo': 'Respect', 'artista': 'Aretha Franklin', 'album': 'I Never Loved a Man the Way I Love You', 'duracion': 2.29, 'genero': 'Soul'}\n",
      "{'titulo': 'Bridge Over Troubled Water', 'artista': 'Simon & Garfunkel', 'album': 'Bridge Over Troubled Water', 'duracion': 4.52, 'genero': 'Folk'}\n",
      "{'titulo': 'Light My Fire', 'artista': 'The Doors', 'album': 'The Doors', 'duracion': 7.06, 'genero': 'Rock'}\n",
      "{'titulo': 'My Girl', 'artista': 'The Temptations', 'album': 'The Temptations Sing Smokey', 'duracion': 2.55, 'genero': 'Soul'}\n",
      "{'titulo': 'Hey Jude', 'artista': 'The Beatles', 'album': 'Hey Jude', 'duracion': 7.11, 'genero': 'Rock'}\n",
      "{'titulo': 'Ring of Fire', 'artista': 'Johnny Cash', 'album': 'Ring of Fire: The Best of Johnny Cash', 'duracion': 2.38, 'genero': 'Country'}\n",
      "{'titulo': 'Walk on the Wild Side', 'artista': 'Lou Reed', 'album': 'Transformer', 'duracion': 4.12, 'genero': 'Rock'}\n",
      "{'titulo': 'I Will Survive', 'artista': 'Gloria Gaynor', 'album': 'Love Tracks', 'duracion': 4.57, 'genero': 'Disco'}\n",
      "{'titulo': \"Ain't No Mountain High Enough\", 'artista': 'Marvin Gaye & Tammi Terrell', 'album': 'United', 'duracion': 2.29, 'genero': 'Soul'}\n",
      "{'titulo': 'I Heard It Through the Grapevine', 'artista': 'Marvin Gaye', 'album': 'In the Groove', 'duracion': 3.13, 'genero': 'Soul'}\n",
      "{'titulo': 'Let It Be', 'artista': 'The Beatles', 'album': 'Let It Be', 'duracion': 4.03, 'genero': 'Rock'}\n",
      "{'titulo': 'Hallelujah', 'artista': 'Leonard Cohen', 'album': 'Various Positions', 'duracion': 4.36, 'genero': 'Folk'}\n",
      "{'titulo': \"Blowin' in the Wind\", 'artista': 'Bob Dylan', 'album': \"The Freewheelin' Bob Dylan\", 'duracion': 2.49, 'genero': 'Folk'}\n",
      "{'titulo': 'Hotel California', 'artista': 'Eagles', 'album': 'Hotel California', 'duracion': 6.3, 'genero': 'Rock'}\n",
      "{'titulo': 'Born to Be Wild', 'artista': 'Steppenwolf', 'album': 'Steppenwolf', 'duracion': 3.28, 'genero': 'Rock'}\n",
      "{'titulo': 'You Shook Me All Night Long', 'artista': 'AC/DC', 'album': 'Back in Black', 'duracion': 3.3, 'genero': 'Rock'}\n",
      "{'titulo': 'Good Times Bad Times', 'artista': 'Led Zeppelin', 'album': 'Led Zeppelin', 'duracion': 2.47, 'genero': 'Rock'}\n",
      "{'titulo': 'Rain on Me', 'artista': 'Lady Gaga', 'album': 'Chromatica', 'duracion': 3.02, 'genero': 'Pop', 'artistas_colaboradores': ['Ariana Grande']}\n",
      "{'titulo': 'Señorita', 'artista': 'Shawn Mendes', 'album': 'Shawn Mendes', 'duracion': 3.1, 'genero': 'Pop', 'artistas_colaboradores': ['Camila Cabello']}\n",
      "{'titulo': \"I Don't Care\", 'artista': 'Ed Sheeran', 'album': 'No.6 Collaborations Project', 'duracion': 3.39, 'genero': 'Pop', 'artistas_colaboradores': ['Justin Bieber']}\n",
      "{'titulo': 'Shallow', 'artista': 'Lady Gaga', 'album': 'A Star Is Born', 'duracion': 3.37, 'genero': 'Soundtrack', 'artistas_colaboradores': ['Bradley Cooper']}\n",
      "{'titulo': 'Havana', 'artista': 'Camila Cabello', 'album': 'Camila', 'duracion': 3.37, 'genero': 'Pop', 'artistas_colaboradores': ['Young Thug']}\n",
      "{'titulo': 'Savage Love', 'artista': 'Jawsh 685', 'album': 'Savage Love', 'duracion': 2.51, 'genero': 'Pop', 'artistas_colaboradores': ['Jason Derulo']}\n",
      "{'titulo': 'One Kiss', 'artista': 'Calvin Harris', 'album': 'One Kiss', 'duracion': 3.34, 'genero': 'Electronic', 'artistas_colaboradores': ['Dua Lipa']}\n",
      "{'titulo': 'Stay', 'artista': 'The Kid LAROI', 'album': 'Stay', 'duracion': 2.21, 'genero': 'Pop', 'artistas_colaboradores': ['Justin Bieber']}\n",
      "{'titulo': 'Closer', 'artista': 'The Chainsmokers', 'album': 'Collage', 'duracion': 4.04, 'genero': 'Electronic', 'artistas_colaboradores': ['Halsey']}\n",
      "{'titulo': 'Rockstar', 'artista': 'DaBaby', 'album': 'Blame It on Baby', 'duracion': 3.01, 'genero': 'Hip-Hop', 'artistas_colaboradores': ['Roddy Ricch']}\n",
      "{'titulo': 'Sicko Mode', 'artista': 'Travis Scott', 'album': 'Astroworld', 'duracion': 5.12, 'genero': 'Hip-Hop', 'artistas_colaboradores': ['Drake']}\n",
      "{'titulo': 'Finesse (Remix)', 'artista': 'Bruno Mars', 'album': '24K Magic', 'duracion': 3.37, 'genero': 'Funk', 'artistas_colaboradores': ['Cardi B']}\n",
      "{'titulo': 'Eastside', 'artista': 'Benny Blanco', 'album': 'Friends Keep Secrets', 'duracion': 2.53, 'genero': 'Pop', 'artistas_colaboradores': ['Halsey', 'Khalid']}\n",
      "{'titulo': \"Don't Let Me Down\", 'artista': 'The Chainsmokers', 'album': 'Collage', 'duracion': 3.28, 'genero': 'Electronic', 'artistas_colaboradores': ['Daya']}\n",
      "{'titulo': 'Taki Taki', 'artista': 'DJ Snake', 'album': 'Carte Blanche', 'duracion': 3.32, 'genero': 'Reggaeton', 'artistas_colaboradores': ['Selena Gomez', 'Ozuna', 'Cardi B']}\n",
      "{'titulo': 'Beautiful People', 'artista': 'Ed Sheeran', 'album': 'No.6 Collaborations Project', 'duracion': 3.18, 'genero': 'Pop', 'artistas_colaboradores': ['Khalid']}\n",
      "{'titulo': 'I Like It', 'artista': 'Cardi B', 'album': 'Invasion of Privacy', 'duracion': 4.13, 'genero': 'Hip-Hop', 'artistas_colaboradores': ['Bad Bunny', 'J Balvin']}\n",
      "{'titulo': 'Meant to Be', 'artista': 'Bebe Rexha', 'album': 'Expectations', 'duracion': 2.44, 'genero': 'Country Pop', 'artistas_colaboradores': ['Florida Georgia Line']}\n",
      "{'titulo': 'MIA', 'artista': 'Bad Bunny', 'album': 'X 100PRE', 'duracion': 3.3, 'genero': 'Reggaeton', 'artistas_colaboradores': ['Drake']}\n",
      "{'titulo': 'FRIENDS', 'artista': 'Marshmello', 'album': 'Joytime II', 'duracion': 3.22, 'genero': 'Electronic', 'artistas_colaboradores': ['Anne-Marie']}\n",
      "{'titulo': 'No Brainer', 'artista': 'DJ Khaled', 'album': 'Father of Asahd', 'duracion': 4.2, 'genero': 'Hip-Hop', 'artistas_colaboradores': ['Justin Bieber', 'Chance the Rapper', 'Quavo']}\n",
      "{'titulo': 'Tusa', 'artista': 'Karol G', 'album': 'Tusa', 'duracion': 3.2, 'genero': 'Reggaeton', 'artistas_colaboradores': ['Nicki Minaj']}\n",
      "{'titulo': 'Talk', 'artista': 'Khalid', 'album': 'Free Spirit', 'duracion': 3.17, 'genero': 'R&B', 'artistas_colaboradores': ['Disclosure']}\n",
      "{'titulo': 'Goodbyes', 'artista': 'Post Malone', 'album': \"Hollywood's Bleeding\", 'duracion': 2.55, 'genero': 'Hip-Hop', 'artistas_colaboradores': ['Young Thug']}\n",
      "{'titulo': 'Señorita', 'artista': 'Shawn Mendes', 'album': 'Romance', 'duracion': 3.1, 'genero': 'Pop', 'artistas_colaboradores': ['Camila Cabello']}\n",
      "{'titulo': 'Señorita', 'artista': 'Shawn Mendes', 'album': 'Romance', 'duracion': 3.1, 'genero': 'Pop', 'artistas_colaboradores': ['Camila Cabello']}\n",
      "{'titulo': 'Dusk Till Dawn', 'artista': 'Zayn', 'album': 'Icarus Falls', 'duracion': 4.27, 'genero': 'Pop', 'artistas_colaboradores': ['Sia']}\n",
      "{'titulo': 'Unforgettable', 'artista': 'French Montana', 'album': 'Jungle Rules', 'duracion': 3.53, 'genero': 'Hip-Hop', 'artistas_colaboradores': ['Swae Lee']}\n",
      "{'titulo': 'Drip Too Hard', 'artista': 'Lil Baby', 'album': 'Drip Harder', 'duracion': 2.25, 'genero': 'Hip-Hop', 'artistas_colaboradores': ['Gunna']}\n",
      "{'titulo': 'Wake Me Up', 'artista': 'Avicii', 'album': 'True', 'duracion': 4.07, 'genero': 'Electronic', 'artistas_colaboradores': ['Aloe Blacc']}\n",
      "{'titulo': 'Stargazing', 'artista': 'Travis Scott', 'album': 'Astroworld', 'duracion': 4.3, 'genero': 'Hip-Hop', 'artistas_colaboradores': ['Kid Cudi']}\n",
      "{'titulo': 'HUMBLE.', 'artista': 'Kendrick Lamar', 'album': 'DAMN.', 'duracion': 2.57, 'genero': 'Hip-Hop', 'artistas_colaboradores': ['Mike WiLL Made-It']}\n",
      "{'titulo': 'Bodak Yellow', 'artista': 'Cardi B', 'album': 'Invasion of Privacy', 'duracion': 3.54, 'genero': 'Hip-Hop', 'artistas_colaboradores': ['J White Did It']}\n",
      "{'titulo': 'Love Lies', 'artista': 'Khalid', 'album': 'Love, Simon', 'duracion': 3.22, 'genero': 'R&B', 'artistas_colaboradores': ['Normani']}\n",
      "{'titulo': 'Body', 'artista': 'Loud Luxury', 'album': 'Nights Like This', 'duracion': 2.43, 'genero': 'Electronic', 'artistas_colaboradores': ['Brando']}\n",
      "{'titulo': 'I Took a Pill in Ibiza', 'artista': 'Mike Posner', 'album': 'At Night, Alone', 'duracion': 3.19, 'genero': 'Electronic', 'artistas_colaboradores': ['Seeb']}\n",
      "{'titulo': 'Hotline Bling', 'artista': 'Drake', 'album': 'Views', 'duracion': 4.27, 'genero': 'Hip-Hop', 'artistas_colaboradores': ['Nineteen85']}\n",
      "{'titulo': 'Falling', 'artista': 'Trevor Daniel', 'album': 'Nicotine', 'duracion': 2.39, 'genero': 'Pop', 'artistas_colaboradores': ['Charlie Handsome']}\n",
      "{'titulo': 'SAD!', 'artista': 'XXXTENTACION', 'album': '?', 'duracion': 2.46, 'genero': 'Hip-Hop', 'artistas_colaboradores': ['John Cunningham']}\n",
      "{'titulo': 'Without Me', 'artista': 'Halsey', 'album': 'Manic', 'duracion': 3.21, 'genero': 'Pop', 'artistas_colaboradores': ['Louis Bell']}\n",
      "{'titulo': 'Hot Girl Summer', 'artista': 'Megan Thee Stallion', 'album': 'Hot Girl Summer', 'duracion': 3.19, 'genero': 'Hip-Hop', 'artistas_colaboradores': ['Nicki Minaj', 'Ty Dolla $ign']}\n",
      "{'titulo': 'Delicate', 'artista': 'Taylor Swift', 'album': 'Reputation', 'duracion': 3.52, 'genero': 'Pop', 'artistas_colaboradores': ['Max Martin']}\n",
      "{'titulo': 'Good Old Days', 'artista': 'Macklemore', 'album': 'Gemini', 'duracion': 4.0, 'genero': 'Pop', 'artistas_colaboradores': ['Kesha']}\n",
      "{'titulo': 'Attention', 'artista': 'Charlie Puth', 'album': 'Voicenotes', 'duracion': 3.31, 'genero': 'Pop', 'artistas_colaboradores': ['Jacob Kasher']}\n",
      "{'titulo': 'Dancing with a Stranger', 'artista': 'Sam Smith', 'album': 'Love Goes', 'duracion': 2.51, 'genero': 'Pop', 'artistas_colaboradores': ['Normani']}\n",
      "{'titulo': 'IDGAF', 'artista': 'Dua Lipa', 'album': 'Dua Lipa', 'duracion': 3.38, 'genero': 'Pop', 'artistas_colaboradores': ['Jason Evigan']}\n",
      "{'titulo': \"Don't Call Me Up\", 'artista': 'Mabel', 'album': 'High Expectations', 'duracion': 2.58, 'genero': 'Pop', 'artistas_colaboradores': ['Steve Mac']}\n",
      "{'titulo': 'Talk Dirty', 'artista': 'Jason Derulo', 'album': 'Tattoos', 'duracion': 2.57, 'genero': 'Hip-Hop', 'artistas_colaboradores': ['2 Chainz']}\n",
      "{'titulo': 'Let Me Love You', 'artista': 'DJ Snake', 'album': 'Encore', 'duracion': 3.25, 'genero': 'Electronic', 'artistas_colaboradores': ['Justin Bieber']}\n",
      "{'titulo': 'Rain on Me', 'artista': 'Lady Gaga', 'album': 'Chromatica', 'duracion': 3.02, 'genero': 'Pop', 'premios': ['Ariana Grande']}\n",
      "{'titulo': 'Señorita', 'artista': 'Shawn Mendes', 'album': 'Shawn Mendes', 'duracion': 3.1, 'genero': 'Pop', 'premios': ['Camila Cabello']}\n",
      "{'titulo': \"I Don't Care\", 'artista': 'Ed Sheeran', 'album': 'No.6 Collaborations Project', 'duracion': 3.39, 'genero': 'Pop', 'premios': ['Justin Bieber']}\n",
      "{'titulo': 'Shallow', 'artista': 'Lady Gaga', 'album': 'A Star Is Born', 'duracion': 3.37, 'genero': 'Soundtrack', 'premios': ['Bradley Cooper']}\n",
      "{'titulo': 'Havana', 'artista': 'Camila Cabello', 'album': 'Camila', 'duracion': 3.37, 'genero': 'Pop', 'premios': ['Young Thug']}\n",
      "{'titulo': 'Savage Love', 'artista': 'Jawsh 685', 'album': 'Savage Love', 'duracion': 2.51, 'genero': 'Pop', 'premios': ['Jason Derulo']}\n",
      "{'titulo': 'One Kiss', 'artista': 'Calvin Harris', 'album': 'One Kiss', 'duracion': 3.34, 'genero': 'Electronic', 'premios': ['Dua Lipa']}\n",
      "{'titulo': 'Stay', 'artista': 'The Kid LAROI', 'album': 'Stay', 'duracion': 2.21, 'genero': 'Pop', 'premios': ['Justin Bieber']}\n",
      "{'titulo': 'Closer', 'artista': 'The Chainsmokers', 'album': 'Collage', 'duracion': 4.04, 'genero': 'Electronic', 'premios': ['Halsey']}\n",
      "{'titulo': 'Rockstar', 'artista': 'DaBaby', 'album': 'Blame It on Baby', 'duracion': 3.01, 'genero': 'Hip-Hop', 'premios': ['Roddy Ricch']}\n",
      "{'titulo': 'Sicko Mode', 'artista': 'Travis Scott', 'album': 'Astroworld', 'duracion': 5.12, 'genero': 'Hip-Hop', 'premios': ['Drake']}\n",
      "{'titulo': 'Finesse (Remix)', 'artista': 'Bruno Mars', 'album': '24K Magic', 'duracion': 3.37, 'genero': 'Funk', 'premios': ['Cardi B']}\n",
      "{'titulo': 'Eastside', 'artista': 'Benny Blanco', 'album': 'Friends Keep Secrets', 'duracion': 2.53, 'genero': 'Pop', 'premios': ['Halsey', 'Khalid']}\n",
      "{'titulo': \"Don't Let Me Down\", 'artista': 'The Chainsmokers', 'album': 'Collage', 'duracion': 3.28, 'genero': 'Electronic', 'premios': ['Daya']}\n",
      "{'titulo': 'Taki Taki', 'artista': 'DJ Snake', 'album': 'Carte Blanche', 'duracion': 3.32, 'genero': 'Reggaeton', 'premios': ['Selena Gomez', 'Ozuna', 'Cardi B']}\n",
      "{'titulo': 'Beautiful People', 'artista': 'Ed Sheeran', 'album': 'No.6 Collaborations Project', 'duracion': 3.18, 'genero': 'Pop', 'premios': ['Khalid']}\n",
      "{'titulo': 'I Like It', 'artista': 'Cardi B', 'album': 'Invasion of Privacy', 'duracion': 4.13, 'genero': 'Hip-Hop', 'premios': ['Bad Bunny', 'J Balvin']}\n",
      "{'titulo': 'Meant to Be', 'artista': 'Bebe Rexha', 'album': 'Expectations', 'duracion': 2.44, 'genero': 'Country Pop', 'premios': ['Florida Georgia Line']}\n",
      "{'titulo': 'MIA', 'artista': 'Bad Bunny', 'album': 'X 100PRE', 'duracion': 3.3, 'genero': 'Reggaeton', 'premios': ['Drake']}\n",
      "{'titulo': 'FRIENDS', 'artista': 'Marshmello', 'album': 'Joytime II', 'duracion': 3.22, 'genero': 'Electronic', 'premios': ['Anne-Marie']}\n",
      "{'titulo': 'No Brainer', 'artista': 'DJ Khaled', 'album': 'Father of Asahd', 'duracion': 4.2, 'genero': 'Hip-Hop', 'premios': ['Justin Bieber', 'Chance the Rapper', 'Quavo']}\n",
      "{'titulo': 'Tusa', 'artista': 'Karol G', 'album': 'Tusa', 'duracion': 3.2, 'genero': 'Reggaeton', 'premios': ['Nicki Minaj']}\n",
      "{'titulo': 'Talk', 'artista': 'Khalid', 'album': 'Free Spirit', 'duracion': 3.17, 'genero': 'R&B', 'premios': ['Disclosure']}\n",
      "{'titulo': 'Goodbyes', 'artista': 'Post Malone', 'album': \"Hollywood's Bleeding\", 'duracion': 2.55, 'genero': 'Hip-Hop', 'premios': ['Young Thug']}\n",
      "{'titulo': 'Señorita', 'artista': 'Shawn Mendes', 'album': 'Romance', 'duracion': 3.1, 'genero': 'Pop', 'premios': ['Camila Cabello']}\n",
      "{'titulo': 'Señorita', 'artista': 'Shawn Mendes', 'album': 'Romance', 'duracion': 3.1, 'genero': 'Pop', 'premios': ['Camila Cabello']}\n",
      "{'titulo': 'Dusk Till Dawn', 'artista': 'Zayn', 'album': 'Icarus Falls', 'duracion': 4.27, 'genero': 'Pop', 'premios': ['Sia']}\n",
      "{'titulo': 'Unforgettable', 'artista': 'French Montana', 'album': 'Jungle Rules', 'duracion': 3.53, 'genero': 'Hip-Hop', 'premios': ['Swae Lee']}\n",
      "{'titulo': 'Drip Too Hard', 'artista': 'Lil Baby', 'album': 'Drip Harder', 'duracion': 2.25, 'genero': 'Hip-Hop', 'premios': ['Gunna']}\n",
      "{'titulo': 'Wake Me Up', 'artista': 'Avicii', 'album': 'True', 'duracion': 4.07, 'genero': 'Electronic', 'premios': ['Aloe Blacc']}\n",
      "{'titulo': 'Stargazing', 'artista': 'Travis Scott', 'album': 'Astroworld', 'duracion': 4.3, 'genero': 'Hip-Hop', 'premios': ['Kid Cudi']}\n",
      "{'titulo': 'HUMBLE.', 'artista': 'Kendrick Lamar', 'album': 'DAMN.', 'duracion': 2.57, 'genero': 'Hip-Hop', 'premios': ['Mike WiLL Made-It']}\n",
      "{'titulo': 'Bodak Yellow', 'artista': 'Cardi B', 'album': 'Invasion of Privacy', 'duracion': 3.54, 'genero': 'Hip-Hop', 'premios': ['J White Did It']}\n",
      "{'titulo': 'Love Lies', 'artista': 'Khalid', 'album': 'Love, Simon', 'duracion': 3.22, 'genero': 'R&B', 'premios': ['Normani']}\n",
      "{'titulo': 'Body', 'artista': 'Loud Luxury', 'album': 'Nights Like This', 'duracion': 2.43, 'genero': 'Electronic', 'premios': ['Brando']}\n",
      "{'titulo': 'I Took a Pill in Ibiza', 'artista': 'Mike Posner', 'album': 'At Night, Alone', 'duracion': 3.19, 'genero': 'Electronic', 'premios': ['Seeb']}\n",
      "{'titulo': 'Hotline Bling', 'artista': 'Drake', 'album': 'Views', 'duracion': 4.27, 'genero': 'Hip-Hop', 'premios': ['Nineteen85']}\n",
      "{'titulo': 'Falling', 'artista': 'Trevor Daniel', 'album': 'Nicotine', 'duracion': 2.39, 'genero': 'Pop', 'premios': ['Charlie Handsome']}\n",
      "{'titulo': 'SAD!', 'artista': 'XXXTENTACION', 'album': '?', 'duracion': 2.46, 'genero': 'Hip-Hop', 'premios': ['John Cunningham']}\n",
      "{'titulo': 'Without Me', 'artista': 'Halsey', 'album': 'Manic', 'duracion': 3.21, 'genero': 'Pop', 'premios': ['Louis Bell']}\n",
      "{'titulo': 'Hot Girl Summer', 'artista': 'Megan Thee Stallion', 'album': 'Hot Girl Summer', 'duracion': 3.19, 'genero': 'Hip-Hop', 'premios': ['Nicki Minaj', 'Ty Dolla $ign']}\n",
      "{'titulo': 'Delicate', 'artista': 'Taylor Swift', 'album': 'Reputation', 'duracion': 3.52, 'genero': 'Pop', 'premios': ['Max Martin']}\n",
      "{'titulo': 'Good Old Days', 'artista': 'Macklemore', 'album': 'Gemini', 'duracion': 4.0, 'genero': 'Pop', 'premios': ['Kesha']}\n",
      "{'titulo': 'Attention', 'artista': 'Charlie Puth', 'album': 'Voicenotes', 'duracion': 3.31, 'genero': 'Pop', 'premios': ['Jacob Kasher']}\n",
      "{'titulo': 'Dancing with a Stranger', 'artista': 'Sam Smith', 'album': 'Love Goes', 'duracion': 2.51, 'genero': 'Pop', 'premios': ['Normani']}\n",
      "{'titulo': 'IDGAF', 'artista': 'Dua Lipa', 'album': 'Dua Lipa', 'duracion': 3.38, 'genero': 'Pop', 'premios': ['Jason Evigan']}\n",
      "{'titulo': \"Don't Call Me Up\", 'artista': 'Mabel', 'album': 'High Expectations', 'duracion': 2.58, 'genero': 'Pop', 'premios': ['Steve Mac']}\n",
      "{'titulo': 'Talk Dirty', 'artista': 'Jason Derulo', 'album': 'Tattoos', 'duracion': 2.57, 'genero': 'Hip-Hop', 'premios': ['2 Chainz']}\n",
      "{'titulo': 'Let Me Love You', 'artista': 'DJ Snake', 'album': 'Encore', 'duracion': 3.25, 'genero': 'Electronic', 'premios': ['Justin Bieber']}\n"
     ]
    }
   ],
   "source": [
    "mis_canciones.mostrar_info_playlist()"
   ]
  },
  {
   "cell_type": "code",
   "execution_count": 26,
   "metadata": {},
   "outputs": [
    {
     "ename": "SyntaxError",
     "evalue": "invalid syntax. Perhaps you forgot a comma? (189874015.py, line 4)",
     "output_type": "error",
     "traceback": [
      "\u001b[1;36m  Cell \u001b[1;32mIn[26], line 4\u001b[1;36m\u001b[0m\n\u001b[1;33m    minutos = int(str(cancion.duracion[]))\u001b[0m\n\u001b[1;37m                      ^\u001b[0m\n\u001b[1;31mSyntaxError\u001b[0m\u001b[1;31m:\u001b[0m invalid syntax. Perhaps you forgot a comma?\n"
     ]
    }
   ],
   "source": [
    "   def tamaño_playlist(self):\n",
    "        print(f\"La playlist {self.nombre} tiene {len(self.canciones)} canciones\")\n",
    "        for cancion in self.canciones: \n",
    "            minutos = int(str(cancion.duracion[]))\n",
    "            minutos, segundos = divmod(cancion.duracion, 1) \n",
    "            duracion_total_segundos += int(minutos) * 60 + int(segundos * 100)"
   ]
  }
 ],
 "metadata": {
  "kernelspec": {
   "display_name": "Python 3",
   "language": "python",
   "name": "python3"
  },
  "language_info": {
   "codemirror_mode": {
    "name": "ipython",
    "version": 3
   },
   "file_extension": ".py",
   "mimetype": "text/x-python",
   "name": "python",
   "nbconvert_exporter": "python",
   "pygments_lexer": "ipython3",
   "version": "3.13.0"
  }
 },
 "nbformat": 4,
 "nbformat_minor": 2
}
