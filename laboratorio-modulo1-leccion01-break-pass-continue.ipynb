{
 "cells": [
  {
   "cell_type": "markdown",
   "metadata": {},
   "source": [
    "\n",
    "<div style=\"text-align: center;\">\n",
    "  <img src=\"https://github.com/Hack-io-Data/Imagenes/blob/main/01-LogosHackio/logo_celeste@4x.png?raw=true\" alt=\"esquema\" />\n",
    "</div>\n"
   ]
  },
  {
   "cell_type": "markdown",
   "metadata": {},
   "source": [
    "# Laboratorio de Python: break(), pass(), continue()"
   ]
  },
  {
   "cell_type": "markdown",
   "metadata": {},
   "source": [
    "## Ejercicio 1: Validación de datos numéricos. \n",
    "\n",
    "Escribe un bucle que lea una lista de números y detenga la ejecución si encuentra un valor negativo. Muestra un mensaje indicando el número negativo encontrado.\n"
   ]
  },
  {
   "cell_type": "code",
   "execution_count": 2,
   "metadata": {},
   "outputs": [],
   "source": [
    "def validar_numeros(lista_numeros):\n",
    "    for numero in lista_numeros:\n",
    "        if numero >0:\n",
    "            print(numero)\n",
    "        else:\n",
    "            print(f\"El numero {numero} es negativo\")\n",
    "            break"
   ]
  },
  {
   "cell_type": "code",
   "execution_count": 4,
   "metadata": {},
   "outputs": [
    {
     "name": "stdout",
     "output_type": "stream",
     "text": [
      "2\n",
      "6\n",
      "8\n",
      "9\n",
      "3\n",
      "El numero -2 es negativo\n"
     ]
    }
   ],
   "source": [
    "lista_num =[2, 6, 8, 9, 3, -2, 8, 10]\n",
    "validar_numeros(lista_num)"
   ]
  },
  {
   "cell_type": "markdown",
   "metadata": {},
   "source": [
    "\n",
    "## Ejercicio 2: Filtrado de datos\n",
    "\n",
    "Escribe un bucle que imprima los números de una lista, pero que omita los números pares.\n"
   ]
  },
  {
   "cell_type": "code",
   "execution_count": 5,
   "metadata": {},
   "outputs": [],
   "source": [
    "def filtro_datos(lista_numeros):\n",
    "    for numero in lista_numeros:\n",
    "        if numero %2 !=0:\n",
    "            print(numero)\n",
    "        else:\n",
    "            pass"
   ]
  },
  {
   "cell_type": "code",
   "execution_count": 6,
   "metadata": {},
   "outputs": [
    {
     "name": "stdout",
     "output_type": "stream",
     "text": [
      "1\n",
      "3\n",
      "5\n",
      "7\n",
      "9\n"
     ]
    }
   ],
   "source": [
    "lista_numeros = [1, 2, 3, 4, 5, 6, 7, 8, 9]\n",
    "filtro_datos(lista_numeros)"
   ]
  },
  {
   "cell_type": "markdown",
   "metadata": {},
   "source": [
    "## Ejercicio 3: Búsqueda de un valor\n",
    "\n",
    "Escribe un programa que busque un valor específico en una lista y detenga la búsqueda cuando lo encuentre. Si se encuentra, muestra un mensaje.\n"
   ]
  },
  {
   "cell_type": "code",
   "execution_count": 7,
   "metadata": {},
   "outputs": [],
   "source": [
    "def busca_valor(lista_valores, valor_buscado):\n",
    "    for valor in lista_valores:\n",
    "        if valor == valor_buscado:\n",
    "            print(f\"Se ha encontrado el valor buscado : {valor_buscado}\")\n",
    "            break"
   ]
  },
  {
   "cell_type": "code",
   "execution_count": 8,
   "metadata": {},
   "outputs": [
    {
     "name": "stdout",
     "output_type": "stream",
     "text": [
      "Se ha encontrado el valor buscado : tomates\n"
     ]
    }
   ],
   "source": [
    "lista_entrada = [3, \"Antonio\", 5, \"leche\", \"tomates\", 6, 8, 23]\n",
    "valor = \"tomates\"\n",
    "busca_valor(lista_entrada, valor)"
   ]
  },
  {
   "cell_type": "markdown",
   "metadata": {},
   "source": [
    "## Ejercicio 4: Estructura de código incompleto\n",
    "\n",
    "Define una función que aún no tenga lógica implementada, pero que se pueda ejecutar sin errores utilizando `pass`."
   ]
  },
  {
   "cell_type": "code",
   "execution_count": 11,
   "metadata": {},
   "outputs": [],
   "source": [
    "def funcion_vacia():\n",
    "    pass"
   ]
  },
  {
   "cell_type": "code",
   "execution_count": 12,
   "metadata": {},
   "outputs": [],
   "source": [
    "def funcion_prueba():\n",
    "    if funcion_vacia != 2:\n",
    "        print(\"La funcion se ejecuta sin errores\")"
   ]
  },
  {
   "cell_type": "code",
   "execution_count": 13,
   "metadata": {},
   "outputs": [
    {
     "name": "stdout",
     "output_type": "stream",
     "text": [
      "La funcion se ejecuta sin errores\n"
     ]
    }
   ],
   "source": [
    "funcion_prueba()"
   ]
  },
  {
   "cell_type": "markdown",
   "metadata": {},
   "source": [
    "## Ejercicio 5: Validación condicional\n",
    "\n",
    "Escribe un bucle que verifique una lista de nombres. Si encuentra un nombre vacío (cadena vacía), salta esa iteración y continúa con los demás nombres.\n"
   ]
  },
  {
   "cell_type": "code",
   "execution_count": 16,
   "metadata": {},
   "outputs": [],
   "source": [
    "def validacion_condicional(lista_nombres):\n",
    "    for nombre in lista_nombres:\n",
    "        if nombre != \"\":\n",
    "            print(nombre)\n",
    "        else:\n",
    "            pass"
   ]
  },
  {
   "cell_type": "code",
   "execution_count": 15,
   "metadata": {},
   "outputs": [
    {
     "name": "stdout",
     "output_type": "stream",
     "text": [
      "Javi\n",
      "Luis\n",
      "Paula\n",
      "Raquel\n",
      "Jaime\n"
     ]
    }
   ],
   "source": [
    "lista_nombres = {\"Luis\", \"Javi\", \"\", \"Paula\", \"Raquel\", \"\", \"Jaime\"}\n",
    "validacion_condicional(lista_nombres)"
   ]
  },
  {
   "cell_type": "markdown",
   "metadata": {},
   "source": [
    "## Ejercicio 6: Búsqueda de claves en un diccionario\n",
    "\n",
    "Escribe un programa que recorra un diccionario y detenga la búsqueda si encuentra una clave específica pasada por el usuario.\n"
   ]
  },
  {
   "cell_type": "code",
   "execution_count": 1,
   "metadata": {},
   "outputs": [],
   "source": [
    "def busca_clave(diccionario,clave_buscada):\n",
    "    for elemento in diccionario:\n",
    "        if elemento == clave_buscada:\n",
    "            print(f\"El valor de {clave_buscada} es {diccionario[elemento]}\")\n",
    "            break\n",
    "        else:\n",
    "            print(f\"Buscando {clave_buscada}...\")"
   ]
  },
  {
   "cell_type": "code",
   "execution_count": 2,
   "metadata": {},
   "outputs": [
    {
     "name": "stdout",
     "output_type": "stream",
     "text": [
      "Buscando peso...\n",
      "Buscando peso...\n",
      "Buscando peso...\n",
      "Buscando peso...\n",
      "El valor de peso es 86\n"
     ]
    }
   ],
   "source": [
    "diccionario_entrada = {\"nombre\": \"Daniel\", \"apellido\" : \"González\", \"edad\": 18, \"altura\" : 1.78, \"peso\": 86, \"hermanos\": 3, \"Ciudad\": \"Madrid\"}\n",
    "busca_clave(diccionario_entrada, \"peso\")"
   ]
  },
  {
   "cell_type": "markdown",
   "metadata": {},
   "source": [
    "## Ejercicio 7: Bucle con múltiples excepciones\n",
    "\n",
    "Escribe un bucle que procese una lista de operaciones matemáticas, omitiendo las operaciones que intenten dividir por cero.\n"
   ]
  },
  {
   "cell_type": "code",
   "execution_count": 3,
   "metadata": {},
   "outputs": [
    {
     "name": "stdout",
     "output_type": "stream",
     "text": [
      "3\n",
      "0\n",
      "no se puede dividir por cero\n",
      "1\n",
      "3\n",
      "no se puede dividir por cero\n",
      "322\n"
     ]
    }
   ],
   "source": [
    "operaciones= [[1, \"+\", 2], [2, \"-\", 2], [6, \"/\", 0], [1, \"+\", 0], [45, \"-\", 42], [1, \"/\", 0], [14, \"*\", 23]]\n",
    "for operacion in operaciones:\n",
    "    if operacion[1] == \"+\":\n",
    "        resultado = operacion[0]+operacion[2]\n",
    "        print(resultado)\n",
    "    elif operacion[1] == \"-\":\n",
    "         resultado = operacion[0]-operacion[2]\n",
    "         print(resultado)\n",
    "    elif operacion[1] == \"/\":\n",
    "        if operacion[2]!=0:\n",
    "            resultado = operacion[0]/operacion[2]\n",
    "            print(resultado)\n",
    "        else:\n",
    "            print(\"no se puede dividir por cero\")\n",
    "            continue\n",
    "    elif operacion[1] == \"*\":\n",
    "        resultado = operacion[0]*operacion[2]\n",
    "        print(resultado)"
   ]
  },
  {
   "cell_type": "markdown",
   "metadata": {},
   "source": [
    "## Ejercicio 8: Búsqueda en una lista anidada\n",
    "\n",
    "Escribe un programa que recorra una lista de listas y detenga la búsqueda cuando encuentre un valor mayor a 50.\n"
   ]
  },
  {
   "cell_type": "code",
   "execution_count": 3,
   "metadata": {},
   "outputs": [],
   "source": [
    "def busca_lista_anidada(lista_entrada):\n",
    "    for sublista in lista_entrada:\n",
    "        for elemento in sublista:\n",
    "            if elemento > 50:\n",
    "                print(f\"se ha encontrado {elemento} > 50\")\n",
    "                break"
   ]
  },
  {
   "cell_type": "code",
   "execution_count": 4,
   "metadata": {},
   "outputs": [
    {
     "name": "stdout",
     "output_type": "stream",
     "text": [
      "se ha encontrado 51 > 50\n"
     ]
    }
   ],
   "source": [
    "lista_anidada=[[1,2,3,4], [21,22,23,24], [41,42,43,44], [51,52,53,44]]\n",
    "busca_lista_anidada(lista_anidada)"
   ]
  },
  {
   "cell_type": "markdown",
   "metadata": {},
   "source": [
    "## Ejercicio 9: Evaluación de series temporales\n",
    "\n",
    "Escribe un programa que recorra una lista de datos de series temporales y se detenga si encuentra un valor atípico (mayor a 100).\n"
   ]
  },
  {
   "cell_type": "code",
   "execution_count": 5,
   "metadata": {},
   "outputs": [],
   "source": [
    "def evalua_seriestemporales(serietemporal_entrada):\n",
    "    for dato in serietemporal_entrada:\n",
    "        if dato > 100:\n",
    "            print(f\"se ha encontrado un valor atípico: {dato} > 100\")\n",
    "            break"
   ]
  },
  {
   "cell_type": "code",
   "execution_count": 7,
   "metadata": {},
   "outputs": [
    {
     "name": "stdout",
     "output_type": "stream",
     "text": [
      "se ha encontrado un valor atípico: 210 > 100\n"
     ]
    }
   ],
   "source": [
    "temperatura_maxima_mes=[6, 8, 13, 210, 24, 27, 36, 41, 280, 22, 12, 5]\n",
    "evalua_seriestemporales(temperatura_maxima_mes)"
   ]
  },
  {
   "cell_type": "markdown",
   "metadata": {},
   "source": [
    "## Ejercicio 10: Iteración con valores faltantes\n",
    "\n",
    "Crea un bucle que recorra una lista de datos de ventas y salte los valores faltantes representados por `None`."
   ]
  },
  {
   "cell_type": "code",
   "execution_count": 18,
   "metadata": {},
   "outputs": [],
   "source": [
    "def valores_faltantes(valores_entrada):\n",
    "    for valor in valores_entrada:\n",
    "        if valor != None:\n",
    "            print(valor)\n",
    "        else:\n",
    "            continue\n",
    "            \n",
    "        "
   ]
  },
  {
   "cell_type": "code",
   "execution_count": 19,
   "metadata": {},
   "outputs": [
    {
     "name": "stdout",
     "output_type": "stream",
     "text": [
      "6000\n",
      "800\n",
      "210\n",
      "2400\n",
      "3600\n",
      "4100\n",
      "2800\n",
      "5000\n"
     ]
    }
   ],
   "source": [
    "ventas_mes=[6000, 800, None, 210, 2400, None, 3600, 4100, 2800, None, None, 5000]\n",
    "valores_faltantes(ventas_mes)"
   ]
  },
  {
   "cell_type": "markdown",
   "metadata": {},
   "source": [
    "## Ejercicio 11: Control de flujo en bucles anidados\n",
    "\n",
    "Escribe un bucle que recorra la matriz dada y se detenga si se encuentra un número negativo, mostrando su posición.\n",
    "\n"
   ]
  },
  {
   "cell_type": "code",
   "execution_count": 10,
   "metadata": {},
   "outputs": [
    {
     "name": "stdout",
     "output_type": "stream",
     "text": [
      "En la posición 1,1 hay un número negativo\n"
     ]
    }
   ],
   "source": [
    "matriz = [[1,2,3], [1,-1,2], [2,4,5], [0,2,3]]\n",
    "filas = len(matriz)\n",
    "columnas = len(matriz[0])\n",
    "for i in range(filas):\n",
    "    for j in range(columnas):\n",
    "        if matriz[i][j] < 0:\n",
    "            print(f\"En la posición {i},{j} hay un número negativo\")\n",
    "            break\n",
    "        else: \n",
    "            pass"
   ]
  }
 ],
 "metadata": {
  "kernelspec": {
   "display_name": "Python 3",
   "language": "python",
   "name": "python3"
  },
  "language_info": {
   "codemirror_mode": {
    "name": "ipython",
    "version": 3
   },
   "file_extension": ".py",
   "mimetype": "text/x-python",
   "name": "python",
   "nbconvert_exporter": "python",
   "pygments_lexer": "ipython3",
   "version": "3.13.0"
  }
 },
 "nbformat": 4,
 "nbformat_minor": 2
}
