{
 "cells": [
  {
   "cell_type": "markdown",
   "id": "6db588db",
   "metadata": {},
   "source": [
    "<div style=\"text-align: center;\">\n",
    "  <img src=\"https://github.com/Hack-io-Data/Imagenes/blob/main/01-LogosHackio/logo_naranja@4x.png?raw=true\" alt=\"esquema\" />\n",
    "</div>"
   ]
  },
  {
   "cell_type": "code",
   "execution_count": 7,
   "id": "11d3f85f",
   "metadata": {},
   "outputs": [],
   "source": [
    "import os"
   ]
  },
  {
   "cell_type": "code",
   "execution_count": 8,
   "id": "64ff9293",
   "metadata": {},
   "outputs": [
    {
     "data": {
      "text/plain": [
       "['.git',\n",
       " 'laboratorio-modulo1-leccion01-break-pass-continue.ipynb',\n",
       " 'laboratorio-modulo1-leccion01-manejo-errores.ipynb',\n",
       " 'laboratorio-modulo1-leccion02-clases.ipynb',\n",
       " 'laboratorio-modulo2-leccion01-numpy.ipynb',\n",
       " 'README.md']"
      ]
     },
     "execution_count": 8,
     "metadata": {},
     "output_type": "execute_result"
    }
   ],
   "source": [
    "datos = os.listdir()\n",
    "datos"
   ]
  },
  {
   "cell_type": "code",
   "execution_count": null,
   "id": "74e36252",
   "metadata": {},
   "outputs": [],
   "source": [
    "diccioanrio_df = {diccioanrio_df[re.findall(\"\\d{4}\", i)[0]] : pd.read_csv(f\"..dato/{i}\") for i in datos}\n",
    "\n",
    "diccioanrio_df = {}\n",
    "for i in datos:\n",
    "    df = pd.read_csv(i)\n",
    "    diccioanrio_df[i.spl]\n"
   ]
  },
  {
   "cell_type": "code",
   "execution_count": 12,
   "id": "46115eef",
   "metadata": {},
   "outputs": [],
   "source": [
    "import numpy as np"
   ]
  },
  {
   "cell_type": "markdown",
   "id": "11308d6c",
   "metadata": {},
   "source": [
    "for i in datos\n",
    "# Laboratorio de NumPy"
   ]
  },
  {
   "cell_type": "markdown",
   "id": "a19d4596",
   "metadata": {},
   "source": [
    "#### Ejercicio 1 - Crea un array de 1D con los números del 0 al 9."
   ]
  },
  {
   "cell_type": "code",
   "execution_count": 13,
   "id": "9d4e1d42",
   "metadata": {},
   "outputs": [
    {
     "name": "stdout",
     "output_type": "stream",
     "text": [
      "[0 1 2 3 4 5 6 7 8 9]\n"
     ]
    }
   ],
   "source": [
    "lista = list(range(0,10))\n",
    "array_1D = np.array(lista)\n",
    "print(array_1D)"
   ]
  },
  {
   "cell_type": "markdown",
   "id": "f4a41f16",
   "metadata": {},
   "source": [
    "#### Ejercicio 2 - Convierte un array 1D en un array 2D con 2 filas y 5 columnas."
   ]
  },
  {
   "cell_type": "code",
   "execution_count": 14,
   "id": "3d7cef3c",
   "metadata": {},
   "outputs": [
    {
     "name": "stdout",
     "output_type": "stream",
     "text": [
      "[[0 1 2 3 4]\n",
      " [5 6 7 8 9]]\n"
     ]
    }
   ],
   "source": [
    "array_2D = np.reshape(array_1D,(2,5))\n",
    "print(array_2D)"
   ]
  },
  {
   "cell_type": "markdown",
   "id": "86bb8999",
   "metadata": {},
   "source": [
    "#### Ejercicio 3 - Encuentra los índices de los elementos con valor distinto de 0 en el siguiente array: [0, 2, 0, 3, 0, 4, 0]."
   ]
  },
  {
   "cell_type": "code",
   "execution_count": 61,
   "id": "ef048e69",
   "metadata": {},
   "outputs": [],
   "source": [
    "array_ej3=np.array([0,2,0,3,0,4,0])"
   ]
  },
  {
   "cell_type": "code",
   "execution_count": 63,
   "id": "20d1e132",
   "metadata": {},
   "outputs": [
    {
     "data": {
      "text/plain": [
       "(array([1, 3, 5]),)"
      ]
     },
     "execution_count": 63,
     "metadata": {},
     "output_type": "execute_result"
    }
   ],
   "source": [
    "array_ej3_filtrado = np.where(array_ej3 != 0)\n",
    "array_ej3_filtrado"
   ]
  },
  {
   "cell_type": "markdown",
   "id": "1c548419",
   "metadata": {},
   "source": [
    "#### Ejercicio 4 - Crea un array 3x3 con valores aleatorios entre 0 y 1."
   ]
  },
  {
   "cell_type": "code",
   "execution_count": 15,
   "id": "e1d4f19f",
   "metadata": {},
   "outputs": [
    {
     "name": "stdout",
     "output_type": "stream",
     "text": [
      "[[0.72131209 0.53761927 0.48495459]\n",
      " [0.29374852 0.21431286 0.34885266]\n",
      " [0.2283041  0.42018617 0.92688583]]\n"
     ]
    }
   ],
   "source": [
    "array_aleatorio_33 = np.random.rand(3,3)\n",
    "print(array_aleatorio_33)"
   ]
  },
  {
   "cell_type": "markdown",
   "id": "aee82811",
   "metadata": {},
   "source": [
    "#### Ejercicio 5 - Crea un array de 10 números aleatorios y encuentra el valor máximo y mínimo."
   ]
  },
  {
   "cell_type": "code",
   "execution_count": 16,
   "id": "81fea76e",
   "metadata": {},
   "outputs": [
    {
     "name": "stdout",
     "output_type": "stream",
     "text": [
      "[[36 55 65 56 10]\n",
      " [37 -3  1 56 62]]\n",
      "El número mínimo es -3\n",
      "El número máximo es 65\n"
     ]
    }
   ],
   "source": [
    "array_aleatorio_10 = np.random.randint(-3,67,(2,5))\n",
    "print(array_aleatorio_10)\n",
    "minimo = np.min(array_aleatorio_10)\n",
    "maximo = np.max(array_aleatorio_10)\n",
    "print(f\"El número mínimo es {minimo}\")\n",
    "print(f\"El número máximo es {maximo}\")"
   ]
  },
  {
   "cell_type": "markdown",
   "id": "6559375b",
   "metadata": {},
   "source": [
    "#### Ejercicio 6 - Crea un array de una dimensión e inviértelo. "
   ]
  },
  {
   "cell_type": "code",
   "execution_count": null,
   "id": "31385db0",
   "metadata": {},
   "outputs": [],
   "source": [
    "array_1D_2 = np.array([1,2,3,4,5,6,7,8])"
   ]
  },
  {
   "cell_type": "code",
   "execution_count": 50,
   "id": "fc249298",
   "metadata": {},
   "outputs": [
    {
     "data": {
      "text/plain": [
       "array([8, 7, 6, 5, 4, 3, 2, 1])"
      ]
     },
     "execution_count": 50,
     "metadata": {},
     "output_type": "execute_result"
    }
   ],
   "source": [
    "array_1D_2_invertido = array_1D_2[::-1]\n",
    "array_1D_2_invertido"
   ]
  },
  {
   "cell_type": "markdown",
   "id": "4457f046",
   "metadata": {},
   "source": [
    "\n",
    "#### Ejercicio 6 - Genera un array tridimensional de dimensiones (2, 3, 4) con valores enteros del 1 al 24.\n",
    "\n",
    "- Selecciona el primer `15` del array.\n",
    "\n",
    "- Selecciona todos los elementos del primer array. \n",
    "\n",
    "- Selecciona la última fila del último array\n"
   ]
  },
  {
   "cell_type": "code",
   "execution_count": 18,
   "id": "3cab04c9",
   "metadata": {},
   "outputs": [
    {
     "name": "stdout",
     "output_type": "stream",
     "text": [
      "[[[ 1  2  3  4]\n",
      "  [ 5  6  7  8]\n",
      "  [ 9 10 11 12]]\n",
      "\n",
      " [[13 14 15 16]\n",
      "  [17 18 19 20]\n",
      "  [21 22 23 24]]]\n"
     ]
    }
   ],
   "source": [
    "array_24 = np.arange(1,25)\n",
    "array_3D = np.reshape(array_24,(2,3,4))\n",
    "print(array_3D)"
   ]
  },
  {
   "cell_type": "code",
   "execution_count": 64,
   "id": "9c589ae3",
   "metadata": {},
   "outputs": [
    {
     "data": {
      "text/plain": [
       "np.int64(15)"
      ]
     },
     "execution_count": 64,
     "metadata": {},
     "output_type": "execute_result"
    }
   ],
   "source": [
    "array_3D[1,0,2]"
   ]
  },
  {
   "cell_type": "code",
   "execution_count": 19,
   "id": "74f89d86",
   "metadata": {},
   "outputs": [
    {
     "name": "stdout",
     "output_type": "stream",
     "text": [
      "[[ 1  2  3  4]\n",
      " [ 5  6  7  8]\n",
      " [ 9 10 11 12]]\n"
     ]
    }
   ],
   "source": [
    "primer_array = array_3D[0,:,:]\n",
    "print(primer_array)"
   ]
  },
  {
   "cell_type": "code",
   "execution_count": 20,
   "id": "c37a51ef",
   "metadata": {},
   "outputs": [
    {
     "name": "stdout",
     "output_type": "stream",
     "text": [
      "[21 22 23 24]\n"
     ]
    }
   ],
   "source": [
    "ultima_fila = array_3D[1,2,:]\n",
    "print(ultima_fila)"
   ]
  },
  {
   "cell_type": "markdown",
   "id": "681b7e4e",
   "metadata": {},
   "source": [
    "\n",
    "#### Ejercicio 7 - Genera un array tridimensional de dimensiones (3, 2, 5) con valores enteros del 1 al 30.\n",
    "\n",
    "- Selecciona el subarray que contiene los dos primeros elementos de cada fila del primer array.\n",
    "\n",
    "- Selecciona el subarray que contiene todas las filas de los dos últimos arrays.\n"
   ]
  },
  {
   "cell_type": "code",
   "execution_count": 21,
   "id": "b008a9aa",
   "metadata": {},
   "outputs": [
    {
     "name": "stdout",
     "output_type": "stream",
     "text": [
      "[[[ 1  2  3  4  5]\n",
      "  [ 6  7  8  9 10]]\n",
      "\n",
      " [[11 12 13 14 15]\n",
      "  [16 17 18 19 20]]\n",
      "\n",
      " [[21 22 23 24 25]\n",
      "  [26 27 28 29 30]]]\n"
     ]
    }
   ],
   "source": [
    "array_30 = np.arange(1,31)\n",
    "array_3D_2 = np.reshape(array_30,(3,2,5))\n",
    "print(array_3D_2)"
   ]
  },
  {
   "cell_type": "code",
   "execution_count": 22,
   "id": "8ba6c737",
   "metadata": {},
   "outputs": [
    {
     "data": {
      "text/plain": [
       "array([[1, 2],\n",
       "       [6, 7]])"
      ]
     },
     "execution_count": 22,
     "metadata": {},
     "output_type": "execute_result"
    }
   ],
   "source": [
    "dos_primeros = array_3D_2[0,:,0:2]\n",
    "dos_primeros"
   ]
  },
  {
   "cell_type": "code",
   "execution_count": 23,
   "id": "41611a7a",
   "metadata": {},
   "outputs": [
    {
     "data": {
      "text/plain": [
       "array([[[11, 12, 13, 14, 15],\n",
       "        [16, 17, 18, 19, 20]],\n",
       "\n",
       "       [[21, 22, 23, 24, 25],\n",
       "        [26, 27, 28, 29, 30]]])"
      ]
     },
     "execution_count": 23,
     "metadata": {},
     "output_type": "execute_result"
    }
   ],
   "source": [
    "dos_ultimos = array_3D_2[1:,:,:]\n",
    "dos_ultimos"
   ]
  },
  {
   "cell_type": "markdown",
   "id": "4fabd9d0",
   "metadata": {},
   "source": [
    "#### Ejercicio 8 - Genera un array tridimensional de dimensiones (4, 3, 2) con valores enteros del 1 al 24.\n",
    "\n",
    "- Cambia todos los elementos de la segunda fila del segundo array por `0`.\n",
    "\n",
    "- Cambia todos los valores del último array a `-1`.\n"
   ]
  },
  {
   "cell_type": "code",
   "execution_count": 72,
   "id": "0ef45b69",
   "metadata": {},
   "outputs": [
    {
     "name": "stdout",
     "output_type": "stream",
     "text": [
      "[[[ 1  2]\n",
      "  [ 3  4]\n",
      "  [ 5  6]]\n",
      "\n",
      " [[ 7  8]\n",
      "  [ 0  0]\n",
      "  [11 12]]\n",
      "\n",
      " [[13 14]\n",
      "  [15 16]\n",
      "  [17 18]]\n",
      "\n",
      " [[-1 -1]\n",
      "  [-1 -1]\n",
      "  [-1 -1]]]\n"
     ]
    }
   ],
   "source": [
    "## se reutiliza el array unidimensional con valores enteros del 1 al 24 creado en el ejercio 6 \"array_24\"\n",
    "array_3D_3 = np.reshape(array_24, (4,3,2))\n",
    "print(array_3D_3)"
   ]
  },
  {
   "cell_type": "code",
   "execution_count": 75,
   "id": "71827711",
   "metadata": {},
   "outputs": [
    {
     "data": {
      "text/plain": [
       "array([[[ 1,  2],\n",
       "        [ 3,  4],\n",
       "        [ 5,  6]],\n",
       "\n",
       "       [[ 7,  8],\n",
       "        [ 0,  0],\n",
       "        [11, 12]],\n",
       "\n",
       "       [[13, 14],\n",
       "        [15, 16],\n",
       "        [17, 18]],\n",
       "\n",
       "       [[-1, -1],\n",
       "        [-1, -1],\n",
       "        [-1, -1]]])"
      ]
     },
     "execution_count": 75,
     "metadata": {},
     "output_type": "execute_result"
    }
   ],
   "source": [
    "array_3D_3[1,1,:]=[0,0]\n",
    "array_3D_3[3,:,:]=[[-1,-1],[-1,-1],[-1,-1]]\n",
    "array_3D_3"
   ]
  },
  {
   "cell_type": "markdown",
   "id": "c60bc3bb",
   "metadata": {},
   "source": [
    "\n",
    "#### Ejercicio 9 - Genera un array tridimensional de dimensiones (2, 4, 3) con valores enteros del -10 al 13.\n",
    "\n",
    "- Selecciona todos los elementos mayores a `5`.\n",
    "\n",
    "- Reemplaza todos los elementos negativos por `0`.\n"
   ]
  },
  {
   "cell_type": "code",
   "execution_count": 25,
   "id": "28bf9232",
   "metadata": {},
   "outputs": [
    {
     "name": "stdout",
     "output_type": "stream",
     "text": [
      "[[[-10  -9  -8]\n",
      "  [ -7  -6  -5]\n",
      "  [ -4  -3  -2]\n",
      "  [ -1   0   1]]\n",
      "\n",
      " [[  2   3   4]\n",
      "  [  5   6   7]\n",
      "  [  8   9  10]\n",
      "  [ 11  12  13]]]\n"
     ]
    }
   ],
   "source": [
    "array_1013 = np.arange(-10,14)\n",
    "array_3D_4 = np.reshape(array_1013,(2,4,3))\n",
    "print(array_3D_4)"
   ]
  },
  {
   "cell_type": "code",
   "execution_count": 79,
   "id": "0f19527b",
   "metadata": {},
   "outputs": [
    {
     "data": {
      "text/plain": [
       "array([ 6,  7,  8,  9, 10, 11, 12, 13])"
      ]
     },
     "execution_count": 79,
     "metadata": {},
     "output_type": "execute_result"
    }
   ],
   "source": [
    "array_3D_4_filtrado = array_3D_4[array_3D_4 >5]\n",
    "array_3D_4_filtrado"
   ]
  },
  {
   "cell_type": "code",
   "execution_count": 83,
   "id": "171f4fed",
   "metadata": {},
   "outputs": [
    {
     "data": {
      "text/plain": [
       "array([[[ 0,  0,  0],\n",
       "        [ 0,  0,  0],\n",
       "        [ 0,  0,  0],\n",
       "        [ 0,  0,  1]],\n",
       "\n",
       "       [[ 2,  3,  4],\n",
       "        [ 5,  6,  7],\n",
       "        [ 8,  9, 10],\n",
       "        [11, 12, 13]]])"
      ]
     },
     "execution_count": 83,
     "metadata": {},
     "output_type": "execute_result"
    }
   ],
   "source": [
    "array_3D_4_filtrado2 = np.where(array_3D_4 < 0,0,array_3D_4)\n",
    "array_3D_4_filtrado2"
   ]
  },
  {
   "cell_type": "markdown",
   "id": "ab38a3be",
   "metadata": {},
   "source": [
    "#### Ejercicio 10 - Genera un array tridimensional de dimensiones (3, 3, 3) con valores enteros del 1 al 27.\n",
    "\n",
    "- Selecciona el subarray del segundo array que contenga solo las dos primeras columnas.\n",
    "\n",
    "- Selecciona todos los elementos del tercer array que sean mayores que `20`.\n"
   ]
  },
  {
   "cell_type": "code",
   "execution_count": 102,
   "id": "78c979cf",
   "metadata": {},
   "outputs": [
    {
     "name": "stdout",
     "output_type": "stream",
     "text": [
      "[[[ 1  2  3]\n",
      "  [ 4  5  6]\n",
      "  [ 7  8  9]]\n",
      "\n",
      " [[10 11 12]\n",
      "  [13 14 15]\n",
      "  [16 17 18]]\n",
      "\n",
      " [[19 20 21]\n",
      "  [22 23 24]\n",
      "  [25 26 27]]]\n"
     ]
    }
   ],
   "source": [
    "array_27 = np.arange(1,28)\n",
    "array_3D_5 = np.reshape(array_27,(3,3,3))\n",
    "print(array_3D_5)"
   ]
  },
  {
   "cell_type": "code",
   "execution_count": 103,
   "id": "5b0a2f0f",
   "metadata": {},
   "outputs": [
    {
     "data": {
      "text/plain": [
       "array([[10, 11],\n",
       "       [13, 14],\n",
       "       [16, 17]])"
      ]
     },
     "execution_count": 103,
     "metadata": {},
     "output_type": "execute_result"
    }
   ],
   "source": [
    "subarray=array_3D_5[1,:,0:2]\n",
    "subarray"
   ]
  },
  {
   "cell_type": "code",
   "execution_count": 107,
   "id": "b582db36",
   "metadata": {},
   "outputs": [
    {
     "data": {
      "text/plain": [
       "array([21, 22, 23, 24, 25, 26, 27])"
      ]
     },
     "execution_count": 107,
     "metadata": {},
     "output_type": "execute_result"
    }
   ],
   "source": [
    "subarray2=array_3D_5[array_3D_5>20]\n",
    "subarray2"
   ]
  },
  {
   "cell_type": "markdown",
   "id": "f1a00156",
   "metadata": {},
   "source": [
    "#### Ejercicio 11 - Crea un array de 10 números aleatorios y reemplaza los valores máximos y mínimos por 0."
   ]
  },
  {
   "cell_type": "code",
   "execution_count": 28,
   "id": "990fa526",
   "metadata": {},
   "outputs": [
    {
     "name": "stdout",
     "output_type": "stream",
     "text": [
      "[[23 21 51 20 13 48 11 28 41 22]]\n"
     ]
    }
   ],
   "source": [
    "array_ej11a = np.random.randint(0, 67, (1,10))\n",
    "print(array_ej11a)"
   ]
  },
  {
   "cell_type": "code",
   "execution_count": 97,
   "id": "cbfc9f76",
   "metadata": {},
   "outputs": [],
   "source": [
    "max_ej11=np.max(array_ej11a)\n",
    "min_ej11=np.min(array_ej11a)"
   ]
  },
  {
   "cell_type": "code",
   "execution_count": 115,
   "id": "be4d13c5",
   "metadata": {},
   "outputs": [
    {
     "name": "stdout",
     "output_type": "stream",
     "text": [
      "[[23 21  0 20 13 48  0 28 41 22]]\n"
     ]
    }
   ],
   "source": [
    "array_ej11a_2 = np.where((array_ej11a == max_ej11) | (array_ej11a == min_ej11),0,array_ej11a)\n",
    "print(array_ej11a_2)\n"
   ]
  },
  {
   "cell_type": "markdown",
   "id": "781fafd0",
   "metadata": {},
   "source": [
    "#### Ejercicio 12 - Genera un array de 15 números aleatorios enteros entre 1 y 100 y reordénalo en orden ascendente."
   ]
  },
  {
   "cell_type": "code",
   "execution_count": 29,
   "id": "caa4fd47",
   "metadata": {},
   "outputs": [
    {
     "name": "stdout",
     "output_type": "stream",
     "text": [
      "[[75 63 32 23 26  3 83 55 52 43 87 65 35 53 81]]\n"
     ]
    }
   ],
   "source": [
    "array_ej12a = np.random.randint(0, 101, (1,15))\n",
    "print(array_ej12a)"
   ]
  },
  {
   "cell_type": "code",
   "execution_count": 30,
   "id": "dc8be8ba",
   "metadata": {},
   "outputs": [
    {
     "name": "stdout",
     "output_type": "stream",
     "text": [
      "[[ 3 23 26 32 35 43 52 53 55 63 65 75 81 83 87]]\n"
     ]
    }
   ],
   "source": [
    "array_ordenado = np.sort(array_ej12a)\n",
    "print(array_ordenado)"
   ]
  },
  {
   "cell_type": "markdown",
   "id": "45f10c3e",
   "metadata": {},
   "source": [
    "#### Ejercicio 11 - Calcula la suma de los elementos a lo largo de las filas y columnas en una matriz 4x4."
   ]
  },
  {
   "cell_type": "code",
   "execution_count": 31,
   "id": "90220788",
   "metadata": {},
   "outputs": [
    {
     "name": "stdout",
     "output_type": "stream",
     "text": [
      "[[-13   8  14  -9]\n",
      " [-15   6   9 -11]\n",
      " [  7  12  14  -3]\n",
      " [  6  -6   0   9]]\n"
     ]
    }
   ],
   "source": [
    "array_ej11b = np.random.randint(-16,15,(4,4))\n",
    "print(array_ej11b)"
   ]
  },
  {
   "cell_type": "code",
   "execution_count": 32,
   "id": "36fa5975",
   "metadata": {},
   "outputs": [
    {
     "name": "stdout",
     "output_type": "stream",
     "text": [
      "La suma a lo largo de las filas de la matriz es [  0 -11  30   9] y a lo largo de las columnas es [-15  20  37 -14]\n"
     ]
    }
   ],
   "source": [
    "suma_columnas = np.sum(array_ej11b, axis=0)\n",
    "suma_filas = np.sum(array_ej11b, axis=1)\n",
    "print(f\"La suma a lo largo de las filas de la matriz es {suma_filas} y a lo largo de las columnas es {suma_columnas}\")"
   ]
  },
  {
   "cell_type": "markdown",
   "id": "69b9751a",
   "metadata": {},
   "source": [
    "#### Ejercicio 12 - Crea una matriz de 5x5 con valores en el borde igual a 1 y en el interior igual a 0."
   ]
  },
  {
   "cell_type": "code",
   "execution_count": 33,
   "id": "eca81323",
   "metadata": {},
   "outputs": [
    {
     "name": "stdout",
     "output_type": "stream",
     "text": [
      "[[1 1 1 1 1]\n",
      " [1 0 0 0 1]\n",
      " [1 0 0 0 1]\n",
      " [1 0 0 0 1]\n",
      " [1 1 1 1 1]]\n"
     ]
    }
   ],
   "source": [
    "lista_array55 = [[1, 1, 1, 1, 1], [1, 0, 0, 0, 1], [1, 0, 0, 0, 1], [1, 0, 0, 0, 1], [1, 1, 1, 1, 1]]\n",
    "array_ej12b = np.array(lista_array55)\n",
    "print(array_ej12b)"
   ]
  },
  {
   "cell_type": "markdown",
   "id": "1ea8068d",
   "metadata": {},
   "source": [
    "#### Ejercicio 13 - Calcula la media y la desviación estándar de un array de 10 números aleatorios."
   ]
  },
  {
   "cell_type": "code",
   "execution_count": 34,
   "id": "05dd579d",
   "metadata": {},
   "outputs": [
    {
     "name": "stdout",
     "output_type": "stream",
     "text": [
      "[[5 4 0 7 4]\n",
      " [0 6 3 1 0]]\n"
     ]
    }
   ],
   "source": [
    "array_ej13 = np.random.randint(0,10,(2,5))\n",
    "print(array_ej13)"
   ]
  },
  {
   "cell_type": "code",
   "execution_count": 35,
   "id": "f67953aa",
   "metadata": {},
   "outputs": [
    {
     "name": "stdout",
     "output_type": "stream",
     "text": [
      "La media del array es 3.0 y la desviacion estándar es 2.4899799195977463\n"
     ]
    }
   ],
   "source": [
    "media = np.mean(array_ej13)\n",
    "desviacion_estandar = np.std(array_ej13)\n",
    "print(f\"La media del array es {media} y la desviacion estándar es {desviacion_estandar}\")"
   ]
  },
  {
   "cell_type": "markdown",
   "id": "6add6669",
   "metadata": {},
   "source": [
    "#### Ejercicio 14 - Genera un array tridimensional de dimensiones (2, 3, 4) con valores enteros del 1 al 24.\n",
    "\n",
    "- Transpón el array para intercambiar los ejes de la forma (2, 3, 4) a (4, 3, 2).\n",
    "\n",
    "- Observa cómo cambian las posiciones de los elementos y sus índices después de la transposición. Explica en una celda de markdown que es lo que ha pasado. \n"
   ]
  },
  {
   "cell_type": "code",
   "execution_count": 36,
   "id": "ae98aca5",
   "metadata": {},
   "outputs": [
    {
     "name": "stdout",
     "output_type": "stream",
     "text": [
      "[[[ 1  2  3  4]\n",
      "  [ 5  6  7  8]\n",
      "  [ 9 10 11 12]]\n",
      "\n",
      " [[13 14 15 16]\n",
      "  [17 18 19 20]\n",
      "  [21 22 23 24]]]\n"
     ]
    }
   ],
   "source": [
    "## se reutiliza el array unidimensional con valores enteros del 1 al 24 creado en el ejercio 6 \"array_24\"\n",
    "array_ej14 = np.reshape(array_24,(2,3,4))\n",
    "print(array_ej14)"
   ]
  },
  {
   "cell_type": "code",
   "execution_count": 43,
   "id": "023dec8d",
   "metadata": {},
   "outputs": [
    {
     "data": {
      "text/plain": [
       "array([[[ 1, 13],\n",
       "        [ 5, 17],\n",
       "        [ 9, 21]],\n",
       "\n",
       "       [[ 2, 14],\n",
       "        [ 6, 18],\n",
       "        [10, 22]],\n",
       "\n",
       "       [[ 3, 15],\n",
       "        [ 7, 19],\n",
       "        [11, 23]],\n",
       "\n",
       "       [[ 4, 16],\n",
       "        [ 8, 20],\n",
       "        [12, 24]]])"
      ]
     },
     "execution_count": 43,
     "metadata": {},
     "output_type": "execute_result"
    }
   ],
   "source": [
    "array_ej14_transpuesto = np.transpose(array_ej14,(2,1,0))\n",
    "array_ej14_transpuesto"
   ]
  },
  {
   "cell_type": "markdown",
   "id": "9a75cd64",
   "metadata": {},
   "source": [
    "Se han intercambiado matrices y columnas, antes había 2 matrices de 4 columnas y ahora hay 4 matrices de 2 columnas cada una. El número de filas se mantiene en 3.\n",
    "Los cambios de índice lo muestran, el que en el array original indica la matriz, pasa a indicar las columnas en elarray nuevo:\n",
    "Número | Índice anterior | Índice nuevo\n",
    "------ | --------------- | ------------\n",
    "1      | [0,0,0]         | [0,0,0]     \n",
    "2      | [0,0,1]         | [1,0,0]     \n",
    "3      | [0,0,2]         | [2,0,0]     \n",
    "4      | [0,0,3]         | [3,0,0]     \n",
    "5      | [0,1,0]         | [0,1,0]     \n",
    "6      | [0,1,1]         | [1,1,0]     \n",
    "7      | [0,1,2]         | [2,0,1]     \n",
    "8      | [0,1,3]         | [3,1,0]     \n",
    "9      | [0,2,0]         | [0,2,0]     \n",
    "10     | [0,1,1]         | [1,1,0]     \n",
    "11     | [0,2,2]         | [2,2,0]     \n",
    "12     | [0,2,3]         | [3,2,0]     \n",
    "13     | [1,0,0]         | [0,0,1]     \n",
    "14     | [1,0,1]         | [1,0,1]     \n",
    "15     | [1,0,2]         | [2,0,1]     \n",
    "16     | [1,0,3]         | [3,0,1]     \n",
    "17     | [1,1,0]         | [0,1,1]     \n",
    "18     | [1,1,1]         | [1,1,1]     \n",
    "19     | [1,1,2]         | [2,1,1]     \n",
    "20     | [1,1,3]         | [3,1,1]     \n",
    "21     | [1,2,0]         | [0,2,1]     \n",
    "22     | [1,2,1]         | [1,2,1]     \n",
    "23     | [1,2,2]         | [2,2,1]     \n",
    "24     | [1,2,3]         | [3,2,1]     "
   ]
  },
  {
   "cell_type": "markdown",
   "id": "1e32b5e6",
   "metadata": {},
   "source": [
    "#### Ejercicio 15 - Genera un array tridimensional de dimensiones (3, 4, 2) con valores enteros del 1 al 24.\n",
    "\n",
    "- Transpón el array para intercambiar el primer y segundo eje, de manera que la nueva forma del array sea (4, 3, 2).\n"
   ]
  },
  {
   "cell_type": "code",
   "execution_count": 40,
   "id": "0146fdd6",
   "metadata": {},
   "outputs": [
    {
     "name": "stdout",
     "output_type": "stream",
     "text": [
      "[[[ 1  2]\n",
      "  [ 3  4]\n",
      "  [ 5  6]\n",
      "  [ 7  8]]\n",
      "\n",
      " [[ 9 10]\n",
      "  [11 12]\n",
      "  [13 14]\n",
      "  [15 16]]\n",
      "\n",
      " [[17 18]\n",
      "  [19 20]\n",
      "  [21 22]\n",
      "  [23 24]]]\n"
     ]
    }
   ],
   "source": [
    "## se reutiliza el array unidimensional con valores enteros del 1 al 24 creado en el ejercio 6 \"array_24\"\n",
    "array_ej15 = np.reshape(array_24,(3,4,2))\n",
    "print(array_ej15)"
   ]
  },
  {
   "cell_type": "code",
   "execution_count": 45,
   "id": "a3b5fd89",
   "metadata": {},
   "outputs": [
    {
     "data": {
      "text/plain": [
       "array([[[ 1,  2],\n",
       "        [ 9, 10],\n",
       "        [17, 18]],\n",
       "\n",
       "       [[ 3,  4],\n",
       "        [11, 12],\n",
       "        [19, 20]],\n",
       "\n",
       "       [[ 5,  6],\n",
       "        [13, 14],\n",
       "        [21, 22]],\n",
       "\n",
       "       [[ 7,  8],\n",
       "        [15, 16],\n",
       "        [23, 24]]])"
      ]
     },
     "execution_count": 45,
     "metadata": {},
     "output_type": "execute_result"
    }
   ],
   "source": [
    "array_ej15_transpuesto = np.transpose(array_ej15,(1,0,2))\n",
    "array_ej15_transpuesto"
   ]
  },
  {
   "cell_type": "markdown",
   "id": "fcf92586",
   "metadata": {},
   "source": [
    "#### Ejercicio 16 - Genera un array tridimensional de dimensiones (3, 2, 4) con valores enteros del 1 al 24.\n",
    "\n",
    "- Realiza una rotación completa de los ejes para convertir la forma original (3, 2, 4) en (4, 3, 2).\n"
   ]
  },
  {
   "cell_type": "code",
   "execution_count": 41,
   "id": "dd2c7f27",
   "metadata": {},
   "outputs": [
    {
     "name": "stdout",
     "output_type": "stream",
     "text": [
      "[[[ 1  2  3  4]\n",
      "  [ 5  6  7  8]]\n",
      "\n",
      " [[ 9 10 11 12]\n",
      "  [13 14 15 16]]\n",
      "\n",
      " [[17 18 19 20]\n",
      "  [21 22 23 24]]]\n"
     ]
    }
   ],
   "source": [
    "## se reutiliza el array unidimensional con valores enteros del 1 al 24 creado en el ejercio 6 \"array_24\"\n",
    "array_ej16 = np.reshape(array_24,(3,2,4))\n",
    "print(array_ej16)"
   ]
  },
  {
   "cell_type": "code",
   "execution_count": 46,
   "id": "1a6b22ed",
   "metadata": {},
   "outputs": [
    {
     "data": {
      "text/plain": [
       "array([[[ 1,  5],\n",
       "        [ 9, 13],\n",
       "        [17, 21]],\n",
       "\n",
       "       [[ 2,  6],\n",
       "        [10, 14],\n",
       "        [18, 22]],\n",
       "\n",
       "       [[ 3,  7],\n",
       "        [11, 15],\n",
       "        [19, 23]],\n",
       "\n",
       "       [[ 4,  8],\n",
       "        [12, 16],\n",
       "        [20, 24]]])"
      ]
     },
     "execution_count": 46,
     "metadata": {},
     "output_type": "execute_result"
    }
   ],
   "source": [
    "array_ej16_transpuesto = np.transpose(array_ej16, (2,0,1))\n",
    "array_ej16_transpuesto"
   ]
  },
  {
   "cell_type": "markdown",
   "id": "1795e11f",
   "metadata": {},
   "source": [
    "#### Ejercicio 17 - Manipulación de Arrays en 3D\n",
    "\n",
    "- Crea un array tridimensional con dimensiones (3, 4, 5) cuyos elementos sean números enteros aleatorios entre -10 y 10.\n",
    "\n",
    "- Crea un array vacío con la misma forma y dimensiones que el array creado anteriormente. Luego, reemplaza los valores de la matriz vacía basada en los valores del primer array bajo las siguientes condiciones:\n",
    "\n",
    "   - Si el valor es igual a la mediana, se reemplaza por `\"M\"`.\n",
    "\n",
    "   - Si el valor es mayor que la mediana, se reemplaza por `\"X\"`.\n",
    "\n",
    "   - Si el valor es menor que la mediana, se reemplaza por `\"Y\"`.\n",
    "\n",
    "   - Si el valor es igual al máximo, se reemplaza por `\"MAX\"`.\n",
    "\n",
    "   - Si el valor es igual al mínimo, se reemplaza por `\"MIN\"`.\n"
   ]
  },
  {
   "cell_type": "code",
   "execution_count": 55,
   "id": "d309b397",
   "metadata": {},
   "outputs": [
    {
     "name": "stdout",
     "output_type": "stream",
     "text": [
      "[[[-10   4 -10   2 -10]\n",
      "  [ -1  -2   9 -10   0]\n",
      "  [ 10   5  -2  10  -2]\n",
      "  [  2  -2  -8  -2  -2]]\n",
      "\n",
      " [[  5   6  -6   4  -5]\n",
      "  [  1   9   5   0  -9]\n",
      "  [ -1   1   0 -10  10]\n",
      "  [ 10  -8   5  -4  -8]]\n",
      "\n",
      " [[  0   0 -10   4   0]\n",
      "  [  8  -6  -8  -1  10]\n",
      "  [ -2  -9  10   5  10]\n",
      "  [ -4  -5  -9  -9 -10]]]\n"
     ]
    }
   ],
   "source": [
    "array_ej17 = np.random.randint(-10,11,(3,4,5))\n",
    "print(array_ej17)"
   ]
  },
  {
   "cell_type": "code",
   "execution_count": 60,
   "id": "ded5f001",
   "metadata": {},
   "outputs": [
    {
     "name": "stdout",
     "output_type": "stream",
     "text": [
      "-1.0\n",
      "10\n",
      "-10\n"
     ]
    }
   ],
   "source": [
    "mediana = np.median(array_ej17)\n",
    "print(mediana)\n",
    "maximo = np.max(array_ej17)\n",
    "print(maximo)\n",
    "minimo = np.min(array_ej17)\n",
    "print(minimo)"
   ]
  },
  {
   "cell_type": "code",
   "execution_count": 56,
   "id": "6a5562a3",
   "metadata": {},
   "outputs": [
    {
     "data": {
      "text/plain": [
       "array([[[              0,               0,               0,\n",
       "         140724231471648,              55],\n",
       "        [  2021118405488,   2021118406640,   2021118409712,\n",
       "           2021118404976,   2021118407344],\n",
       "        [  2021118407408,   2021118406320,   2021118406704,\n",
       "           2021118405040,   2021118391088],\n",
       "        [  2021118405552,   2021118406768,   2021118407856,\n",
       "           2021118407984,   2021118407472]],\n",
       "\n",
       "       [[  2021118407536,   2021118408048,   2021118405104,\n",
       "           2021118405616,   2021118405680],\n",
       "        [  2021118408112,   2021118405744,   2021118407600,\n",
       "           2021118408176,   2021118390992],\n",
       "        [  2021118406384,   2021118371808,   2021118407664,\n",
       "           2021118407728,   2021118408304],\n",
       "        [  2021118405808,   2021118406832,   2021118405872,\n",
       "           2021118406896,   2021118405936]],\n",
       "\n",
       "       [[  2021118406000,   2021118406064,   2021118406960,\n",
       "           2021118406128,   2021118405168],\n",
       "        [  2021118408752,   2021118407792,   2021118406192,\n",
       "           2021118408368,   2021118408816],\n",
       "        [  2021118408880,   2021118408432,   2021118408944,\n",
       "           2021118407024,   2021118407088],\n",
       "        [  2021176462960,   2021118406256,   2021118391040,\n",
       "           2021118409776,   2021118406448]]])"
      ]
     },
     "execution_count": 56,
     "metadata": {},
     "output_type": "execute_result"
    }
   ],
   "source": [
    "array_vacio = np.empty((3,4,5), dtype=int)\n",
    "array_vacio"
   ]
  },
  {
   "cell_type": "code",
   "execution_count": 116,
   "id": "21a53688",
   "metadata": {},
   "outputs": [
    {
     "name": "stdout",
     "output_type": "stream",
     "text": [
      "[[['MIN' 'X' 'MIN' 'X' 'MIN']\n",
      "  ['M' 'Y' 'X' 'MIN' 'X']\n",
      "  ['MAX' 'X' 'Y' 'MAX' 'Y']\n",
      "  ['X' 'Y' 'Y' 'Y' 'Y']]\n",
      "\n",
      " [['X' 'X' 'Y' 'X' 'Y']\n",
      "  ['X' 'X' 'X' 'X' 'Y']\n",
      "  ['M' 'X' 'X' 'MIN' 'MAX']\n",
      "  ['MAX' 'Y' 'X' 'Y' 'Y']]\n",
      "\n",
      " [['X' 'X' 'MIN' 'X' 'X']\n",
      "  ['X' 'Y' 'Y' 'M' 'MAX']\n",
      "  ['Y' 'Y' 'MAX' 'X' 'MAX']\n",
      "  ['Y' 'Y' 'Y' 'Y' 'MIN']]]\n"
     ]
    }
   ],
   "source": [
    "array_vacio = np.where(array_ej17 == mediana, \"M\", array_vacio)\n",
    "array_vacio = np.where(array_ej17 > mediana, \"X\", array_vacio)\n",
    "array_vacio = np.where(array_ej17 < mediana, \"Y\", array_vacio)\n",
    "array_vacio = np.where(array_ej17 == maximo, \"MAX\", array_vacio)\n",
    "array_vacio = np.where(array_ej17 == minimo, \"MIN\", array_vacio)\n",
    "print(array_vacio)"
   ]
  },
  {
   "cell_type": "markdown",
   "id": "83794704",
   "metadata": {},
   "source": [
    "#### Ejercicio 18 - Verificación de Filas y Columnas Iguales\n",
    "\n",
    "Crea un array bidimensional de dimensiones 4x4, escribe un código para determinar si alguna fila es exactamente igual a alguna columna.\n",
    "\n",
    "**Reglas:**\n",
    "\n",
    "- No puedes usar funciones predefinidas de NumPy para comparar filas y columnas (`np.array_equal`, etc.).\n",
    "\n",
    "- Debes resolverlo con estructuras básicas de Python (bucles, condicionales, etc.).\n",
    "\n",
    "- Debes revisar si hay al menos una fila que coincida exactamente con alguna columna.\n",
    "\n",
    "**Pistas**:\n",
    "\n",
    "- Puedes recorrer cada fila y cada columna de la matriz usando bucles.\n",
    "\n",
    "- Para comparar una fila con una columna, puedes hacerlo elemento por elemento."
   ]
  },
  {
   "cell_type": "code",
   "execution_count": 129,
   "id": "afd51c60",
   "metadata": {},
   "outputs": [
    {
     "name": "stdout",
     "output_type": "stream",
     "text": [
      "[[ 3  6 13  2]\n",
      " [15  2 13  4]\n",
      " [ 4  4  1  1]\n",
      " [15  6  5  6]]\n"
     ]
    }
   ],
   "source": [
    "array_ej18 = np.random.randint(0,16,(4,4))\n",
    "print(array_ej18)"
   ]
  },
  {
   "cell_type": "code",
   "execution_count": null,
   "id": "049a98e8",
   "metadata": {},
   "outputs": [],
   "source": []
  }
 ],
 "metadata": {
  "kernelspec": {
   "display_name": "Python 3",
   "language": "python",
   "name": "python3"
  },
  "language_info": {
   "codemirror_mode": {
    "name": "ipython",
    "version": 3
   },
   "file_extension": ".py",
   "mimetype": "text/x-python",
   "name": "python",
   "nbconvert_exporter": "python",
   "pygments_lexer": "ipython3",
   "version": "3.13.0"
  }
 },
 "nbformat": 4,
 "nbformat_minor": 5
}
