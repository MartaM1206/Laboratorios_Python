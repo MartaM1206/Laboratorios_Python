{
 "cells": [
  {
   "cell_type": "markdown",
   "metadata": {},
   "source": [
    "\n",
    "<div style=\"text-align: center;\">\n",
    "  <img src=\"https://github.com/Hack-io-Data/Imagenes/blob/main/01-LogosHackio/logo_celeste@4x.png?raw=true\" alt=\"esquema\" />\n",
    "</div>\n"
   ]
  },
  {
   "cell_type": "markdown",
   "metadata": {},
   "source": [
    "# Laboratorio de Python: manejo de errores."
   ]
  },
  {
   "cell_type": "markdown",
   "metadata": {},
   "source": [
    "## Ejercicio 1: División con manejo de excepciones\n",
    "\n",
    "Escribe un programa que pida al usuario dos números e intente dividirlos. Si el usuario ingresa un valor no numérico o intenta dividir por cero, maneja esas excepciones de manera adecuada. Asegúrate de mostrar un mensaje indicando si la división fue exitosa o no.\n"
   ]
  },
  {
   "cell_type": "code",
   "execution_count": null,
   "metadata": {},
   "outputs": [],
   "source": []
  },
  {
   "cell_type": "markdown",
   "metadata": {},
   "source": [
    "## Ejercicio 2: Acceso a archivos\n",
    "\n",
    "Escribe un programa que intente abrir un archivo llamado \"datos.txt\". Si el archivo no existe, captura la excepción y muestra un mensaje de error. Asegúrate de cerrar el archivo correctamente en la sección `finally`.\n"
   ]
  },
  {
   "cell_type": "code",
   "execution_count": null,
   "metadata": {},
   "outputs": [],
   "source": []
  },
  {
   "cell_type": "markdown",
   "metadata": {},
   "source": [
    "## Ejercicio 3: Conversión de cadenas a enteros\n",
    "\n",
    "Escribe un programa que pida una lista de números separados por comas y convierta cada valor a un número entero. Maneja las excepciones para valores que no sean convertibles y asegúrate de informar si la conversión fue exitosa o no.\n"
   ]
  },
  {
   "cell_type": "code",
   "execution_count": null,
   "metadata": {},
   "outputs": [],
   "source": []
  },
  {
   "cell_type": "markdown",
   "metadata": {},
   "source": [
    "#### Ejercicio 4: Cálculo del promedio con manejo de excepciones\n",
    "\n",
    "Escribe una función que reciba una lista de números y calcule su promedio. Si la lista está vacía, lanza una excepción personalizada y maneja el error adecuadamente.\n"
   ]
  },
  {
   "cell_type": "code",
   "execution_count": 10,
   "metadata": {},
   "outputs": [],
   "source": [
    "def calcular_promedio(*numeros):\n",
    "    valor_promedio = sum(*numeros)/(len(*numeros))\n",
    "    return valor_promedio"
   ]
  },
  {
   "cell_type": "code",
   "execution_count": 11,
   "metadata": {},
   "outputs": [
    {
     "data": {
      "text/plain": [
       "2.0"
      ]
     },
     "execution_count": 11,
     "metadata": {},
     "output_type": "execute_result"
    }
   ],
   "source": [
    "numeros=[1,2,3]\n",
    "calcular_promedio(numeros)"
   ]
  },
  {
   "cell_type": "markdown",
   "metadata": {},
   "source": [
    "#### Ejercicio 5: Conversión segura de números\n",
    "\n",
    "Escribe un programa que convierta una cadena a número flotante e intente realizar una operación aritmética. Si la conversión falla, maneja la excepción y continúa con el flujo normal."
   ]
  },
  {
   "cell_type": "code",
   "execution_count": null,
   "metadata": {},
   "outputs": [],
   "source": []
  },
  {
   "cell_type": "markdown",
   "metadata": {},
   "source": [
    "#### Ejercicio 6: Acceso a claves en diccionarios\n",
    "\n",
    "Escribe un programa que intente acceder a una clave específica en un diccionario. Si la clave no existe, maneja la excepción `KeyError` y muestra un mensaje indicando el problema."
   ]
  },
  {
   "cell_type": "code",
   "execution_count": 23,
   "metadata": {},
   "outputs": [
    {
     "name": "stdout",
     "output_type": "stream",
     "text": [
      "El valor de nombre es Dan\n"
     ]
    }
   ],
   "source": [
    "diccionario_entrada = {\"nombre\": \"Dan\", \"edad\": 18, \"altura\" : 1.78}\n",
    "try:\n",
    "    clave = input(\"Introduce la clave\")\n",
    "    print(f\"El valor de {clave} es {diccionario_entrada[clave]}\")\n",
    "except KeyError:\n",
    "    print(\"La clave que buscas no existe en el diccionario\")"
   ]
  },
  {
   "cell_type": "markdown",
   "metadata": {},
   "source": [
    "\n",
    "#### Ejercicio 7: Verificación de entradas de usuario\n",
    "\n",
    "Escribe un programa que pida al usuario que introduzca su edad. Si el usuario ingresa un valor no numérico o un valor fuera del rango esperado (por ejemplo, menor que 0 o mayor que 120), maneja las excepciones adecuadamente."
   ]
  },
  {
   "cell_type": "code",
   "execution_count": 25,
   "metadata": {},
   "outputs": [
    {
     "name": "stdout",
     "output_type": "stream",
     "text": [
      "El valor que has introducido no es válido. Introduce un valor numérico\n"
     ]
    }
   ],
   "source": [
    "try:   \n",
    "    edad = int(input(\"Introduce tu edad\"))\n",
    "    if edad>0 and edad<120:\n",
    "        print(f\"Tienes {edad} años\")\n",
    "    else:\n",
    "        print(\"El valor que has introducido no está en el rango admitido\")\n",
    "except ValueError:\n",
    "    print(\"El valor que has introducido no es válido. Introduce un valor numérico\")\n",
    "\n"
   ]
  },
  {
   "cell_type": "markdown",
   "metadata": {},
   "source": [
    "#### Ejercicio 8: Extracción de valores de una lista\n",
    "\n",
    "Escribe una función que intente acceder a un índice específico en una lista. Si el índice está fuera del rango, maneja la excepción `IndexError` y muestra un mensaje adecuado.\n"
   ]
  },
  {
   "cell_type": "code",
   "execution_count": 28,
   "metadata": {},
   "outputs": [
    {
     "name": "stdout",
     "output_type": "stream",
     "text": [
      "pasta\n"
     ]
    }
   ],
   "source": [
    "lista_entrada = [1, 2, 3, \"padres\", \"pasta\", 6]\n",
    "try:\n",
    "    indice = int(input(\"Introduce el índice que buscas\"))\n",
    "    print(lista_entrada[indice])\n",
    "except IndexError:\n",
    "    print(\"Ese índice está fuera de rango\")"
   ]
  }
 ],
 "metadata": {
  "kernelspec": {
   "display_name": "Python 3",
   "language": "python",
   "name": "python3"
  },
  "language_info": {
   "codemirror_mode": {
    "name": "ipython",
    "version": 3
   },
   "file_extension": ".py",
   "mimetype": "text/x-python",
   "name": "python",
   "nbconvert_exporter": "python",
   "pygments_lexer": "ipython3",
   "version": "3.13.0"
  }
 },
 "nbformat": 4,
 "nbformat_minor": 2
}
